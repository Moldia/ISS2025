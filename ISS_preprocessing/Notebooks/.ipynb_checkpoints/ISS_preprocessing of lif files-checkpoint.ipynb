{
 "cells": [
  {
   "cell_type": "markdown",
   "id": "1469d5fe",
   "metadata": {},
   "source": [
    "# ISS_preprocessing of Leica .lif files"
   ]
  },
  {
   "cell_type": "markdown",
   "id": "0954a7bb",
   "metadata": {},
   "source": [
    "This notebook guides you through the preprocessing of .lif files by Leica microscopes. **The sofware is not able and it is not designed to process .lof files.**  "
   ]
  },
  {
   "cell_type": "markdown",
   "id": "50132d5d",
   "metadata": {},
   "source": [
    "To use this notebook you must saved directly from the Leica software, a single .lif file per cycle. \n",
    "\n",
    "Each file can contain multiple regions, but these need to be consistent across the various cycles.\n",
    "\n",
    "You need to manually specify which cycle the file refers to, as in the example below."
   ]
  },
  {
   "cell_type": "markdown",
   "id": "3982a127",
   "metadata": {},
   "source": [
    "We begin importing the necessary libraries and tools"
   ]
  },
  {
   "cell_type": "code",
   "execution_count": 4,
   "id": "51b79ea6",
   "metadata": {},
   "outputs": [],
   "source": [
    "import ISS_processing.preprocessing as pp\n",
    "import os\n",
    "import pandas as pd"
   ]
  },
  {
   "cell_type": "markdown",
   "id": "bdd30190",
   "metadata": {},
   "source": [
    "### `lif_mipping`\n",
    "\n",
    "This function extracts the images, organises them, and create maximum projections that are exported with a naming convention fitting the downstream processing steps.\n",
    "\n",
    "It also parses the metadata and converts them for downstream processing.\n",
    "\n",
    "\n",
    "`lif_mipping` takes as inputs the following arguments:\n",
    "\n",
    "`lif_path`: the path to the lif file that you want to preprocess, down to the lif file (included)\n",
    "\n",
    "`output_folder`: the folder where you want to save the maximum-projected images. \n",
    "\n",
    "`cycle`: here you have to manually specify to which ISS cycle the images refer to. This is a `int` number, where 1 refers to cycle 1 and so on. "
   ]
  },
  {
   "cell_type": "code",
   "execution_count": null,
   "id": "4055b5b7",
   "metadata": {},
   "outputs": [],
   "source": [
    "from ISS_processing import preprocessing \n",
    "lif_path='/path/to/my/cycle1/file.lif'\n",
    "output_dir = '/path/to/my/output/folder/'"
   ]
  },
  {
   "cell_type": "code",
   "execution_count": null,
   "id": "85974212",
   "metadata": {},
   "outputs": [],
   "source": [
    "\n",
    "lif_mipping(lif_path, output_dir, cycle=1)"
   ]
  },
  {
   "cell_type": "markdown",
   "id": "b3063dbf",
   "metadata": {},
   "source": [
    "### `leica_OME_tiff`\n",
    "`leica_OME_tiff` is the function that **takes the projected images across channels and wraps them into a single OMEtiff per imaging cycle**. This steps organises the files corresponding to each imaging cycles in a specific way within a single file and requires the parsing of a Metadata file to arrange correctly the images in xy space. As explained before, the input for this function is the specific sub-folder within `output_location` one wishes to process. **This function does not allow to process multiple regions in one go, and needs to be run on individual regions manually**.\n",
    "\n",
    "The function outputs 1 OMEtiff file per cycle into the `/preprocessing/OME_tiffs/` subfolder.\n",
    "\n"
   ]
  },
  {
   "cell_type": "code",
   "execution_count": null,
   "id": "79a697dc",
   "metadata": {},
   "outputs": [],
   "source": [
    "from ISS_processing import preprocessing \n",
    "\n",
    "path = '/path/to/output_folder/region/'\n",
    "# create leica OME_tiffs\n",
    "pp.leica_OME_tiff(\n",
    "    directory_base = path+'/preprocessing/mipped/',\n",
    "    output_directory = path+'/preprocessing/OME_tiffs/'\n",
    ")"
   ]
  },
  {
   "cell_type": "markdown",
   "id": "08ecf3ad",
   "metadata": {},
   "source": [
    "### `ashlar_wrapper`\n",
    "\n",
    "This function runs `ashlar`, a package for image stitching and cycle alignment. The function uses the OME_tiffs files as an input, takes as input a channel number (normally the DAPI, see above) and on that channels performs all the alignment and stitching operations.\n",
    "\n",
    "The function outputs 1 stitched file per cycle and channel into the `/preprocessing/stitched/` subfolder"
   ]
  },
  {
   "cell_type": "code",
   "execution_count": null,
   "id": "c46d7943",
   "metadata": {},
   "outputs": [],
   "source": [
    "from ISS_processing import preprocessing \n",
    "\n",
    "# align and stitch images\n",
    "path = '/path/to/output_folder/region/'\n",
    "OME_tiffs = os.listdir(path+'/preprocessing/OME_tiffs/')\n",
    "OME_tiffs = [path+'/preprocessing/OME_tiffs/' + sub for sub in OME_tiffs]\n",
    "\n",
    "pp.ashlar_wrapper(\n",
    "    files = OME_tiffs,\n",
    "    output = path+'/preprocessing/stitched/',\n",
    "    align_channel=4\n",
    ")\n"
   ]
  },
  {
   "cell_type": "markdown",
   "id": "396a359d",
   "metadata": {},
   "source": [
    "### `tile_stitched_images`\n",
    "In this function the stitched images are re-tiled according to a user-specified size.\n",
    "The reason for this is that stitched images are too big to be decoded directly and we prefer to decode them in tiles. This has several advantages, most notably that the pipeline would work also on laptops or non-powerful computers. The idea tile size is 4000-6000, but larger or smaller are also fine depending on the computer."
   ]
  },
  {
   "cell_type": "code",
   "execution_count": null,
   "id": "a6a9df82",
   "metadata": {},
   "outputs": [],
   "source": [
    "from ISS_processing import preprocessing \n",
    "\n",
    "# align and stitch images\n",
    "path = '/path/to/output_folder/region/'\n",
    "\n",
    "# retile stitched images\n",
    "pp.tile_stitched_images(\n",
    "    image_path = path+'/preprocessing/stitched/',\n",
    "    outpath = path+'/preprocessing/ReslicedTiles/',\n",
    "    tile_dim=2000\n",
    ")\n",
    "\n"
   ]
  },
  {
   "cell_type": "code",
   "execution_count": null,
   "id": "0b581883",
   "metadata": {},
   "outputs": [],
   "source": []
  },
  {
   "cell_type": "code",
   "execution_count": null,
   "id": "78c7c7dc",
   "metadata": {},
   "outputs": [],
   "source": []
  },
  {
   "cell_type": "code",
   "execution_count": null,
   "id": "6288dd08",
   "metadata": {},
   "outputs": [],
   "source": []
  }
 ],
 "metadata": {
  "kernelspec": {
   "display_name": "ISS_preprocessing",
   "language": "python",
   "name": "iss_preprocessing"
  },
  "language_info": {
   "codemirror_mode": {
    "name": "ipython",
    "version": 3
   },
   "file_extension": ".py",
   "mimetype": "text/x-python",
   "name": "python",
   "nbconvert_exporter": "python",
   "pygments_lexer": "ipython3",
   "version": "3.8.12"
  }
 },
 "nbformat": 4,
 "nbformat_minor": 5
}
