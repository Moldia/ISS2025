{
 "cells": [
  {
   "cell_type": "markdown",
   "id": "1469d5fe",
   "metadata": {},
   "source": [
    "# ISS_preprocessing of Leica-exported tiffs"
   ]
  },
  {
   "cell_type": "markdown",
   "id": "0954a7bb",
   "metadata": {},
   "source": [
    "This notebook guides you through the preprocessing of tiff files with associated Metadata as exported by Leica microscopes. **The sofware is not able and it is not designed to process Leica proprietary formats such as .lif .lof and the likes.**  "
   ]
  },
  {
   "cell_type": "markdown",
   "id": "50132d5d",
   "metadata": {},
   "source": [
    "To use this notebook the you must have exported, directly from the Leica software, the files as individual TIFFs. Each tiff file will represent a single plane of a single tile of a single channel, so thousands of individual TIFFs will be created in a typical experiment. \n",
    "\n",
    "For our script to work it is important that the files are rigorously and consistently indexed, and this guaranteed by the following example naming structure:\n",
    "\n",
    "`TileScan 1--Stage99--Z42--C03.tif`, where \n",
    "\n",
    "- `TileScan` represents the ROI, \n",
    "\n",
    "- `Stage` represents the tile, \n",
    "\n",
    "- `Z` represent Z-plane,\n",
    "\n",
    "- `C` represents the channel, and  \n",
    "\n",
    "- the `--`  sign acts as a separator (default on our Leica microscopes)."
   ]
  },
  {
   "cell_type": "markdown",
   "id": "3982a127",
   "metadata": {},
   "source": [
    "We begin importing the necessary libraries and tools"
   ]
  },
  {
   "cell_type": "code",
   "execution_count": 1,
   "id": "51b79ea6",
   "metadata": {},
   "outputs": [],
   "source": [
    "import ISS_processing.preprocessing as pp\n",
    "import os\n",
    "import pandas as pd"
   ]
  },
  {
   "cell_type": "code",
   "execution_count": null,
   "id": "b4a16959-c8a2-4000-8b93-b6fb6e57ac23",
   "metadata": {},
   "outputs": [],
   "source": []
  },
  {
   "cell_type": "markdown",
   "id": "bdd30190",
   "metadata": {},
   "source": [
    "## Main function for Leica processing.\n",
    "This function is a sort of main wrapper to process Leica-exported tiffs, and under the hood runs many functions that are made invisible for convenience. Once if you figured out the right parameters for your specific microscope, this will be the smoother way of running preprocessing.\n",
    "\n",
    "In the function you will have to define the following variables:"
   ]
  },
  {
   "cell_type": "markdown",
   "id": "ef427ebd",
   "metadata": {},
   "source": [
    "\n",
    "`input_dirs`: This will be a list of the complete paths to the folders containing your imaging cycles. The folders need to be specified in the right order (ie. the first element of the list will be the folder where the first cycle of imaging is saved, and so on) The elements need to be separated by commas. The format for this variable is a `lst` of `str`.\n",
    "\n",
    "`output_location` = This will be the path where you want the preprocessing output to be saved. Ideally, this should be associated with some type of unique project identifier. The format of this variable is `str`. In case multiple regions are being processed, the funcion will behave differently depending whether a trailing slash `/` is included or not in `output_location`: \n",
    "- if a trailing slash is added, then subfolders for each one of the scanned regions will be created as `_R1`, `_R2`, etc...\n",
    "- if a trailing slash is omitted, then `output_location` will be updated at each region iteration, and each one of the scanned regions will end up in a different `output_location` named as `output_location_R1`,`output_location_R2`, etc...\n",
    "\n",
    "`regions_to_process`: This is an `int` refering to the number of regions of interest (ROI) that you have in each folder. \n",
    "\n",
    "`align_channel`: This variable sets on which channel the alignment across cycles is performed, and typically points to the DAPI channel. This is an `int` number, which referes to the channel number containing the DAPI images. The number is relative to the order of channel acquisition on your  microscope. In our Leica set up, this is the fifth channel, which in python would mean that we put 4 (since python is zero indexed).  \n",
    "\n",
    "`tile_dimensions` =  This `int` refers to the number of pixels that you want to tile your images into during the reslicing process. I.e. if you specify 4000, your resliced images will be of the shape 4000x4000 pixels. \n",
    "\n",
    "`mip`:  This is a `boolean` that specifies whether or not you want to run the Maximum-projection step. From some microscope you might prefer to export already projected images. Or maybe you decided to perform a preliminary image deconvolution and save the deconvolved images as maximum projection. In this case set `mip='False'`, otherwise leave it to 'True'. \n",
    "\n",
    "`mode`: `mode=None` for autosaved data in Leica microscope, `mode='exported'` for exported data in Leica microscope.\n",
    "\n",
    "If you specify `mip='False'`, one important thing has to be noted: in the main function `input_dirs` are only used to extract the raw stacks and maximum project them. If you choose to start from projected images, the next steps use as input the `output_location` folder and its subfolders. So in case `mip='False'`, your files need to be stored and appropriately named in the `output_location` folder, more specifically under the `/preprocessing/mipped/` subfolder to be found by the function. Please refer to the manual if this is not clear.\n"
   ]
  },
  {
   "cell_type": "code",
   "execution_count": 2,
   "id": "c24a4298",
   "metadata": {},
   "outputs": [
    {
     "name": "stderr",
     "output_type": "stream",
     "text": [
      "/home/marco/miniforge3/envs/LEE_preprocessing/lib/python3.8/site-packages/ISS_processing-0.0.0-py3.8.egg/ISS_processing/preprocessing.py:162: FutureWarning: In a future version of pandas all arguments of DataFrame.drop except for the argument 'labels' will be keyword-only.\n",
      "  tiles_df.drop('indexNumber', 1, inplace=True)\n",
      "100%|██████████| 15/15 [00:31<00:00,  2.09s/it]\n",
      "/home/marco/miniforge3/envs/LEE_preprocessing/lib/python3.8/site-packages/ISS_processing-0.0.0-py3.8.egg/ISS_processing/preprocessing.py:162: FutureWarning: In a future version of pandas all arguments of DataFrame.drop except for the argument 'labels' will be keyword-only.\n",
      "  tiles_df.drop('indexNumber', 1, inplace=True)\n",
      "100%|██████████| 15/15 [00:31<00:00,  2.08s/it]\n",
      "/home/marco/miniforge3/envs/LEE_preprocessing/lib/python3.8/site-packages/ISS_processing-0.0.0-py3.8.egg/ISS_processing/preprocessing.py:162: FutureWarning: In a future version of pandas all arguments of DataFrame.drop except for the argument 'labels' will be keyword-only.\n",
      "  tiles_df.drop('indexNumber', 1, inplace=True)\n",
      "100%|██████████| 15/15 [00:32<00:00,  2.16s/it]\n",
      "/home/marco/miniforge3/envs/LEE_preprocessing/lib/python3.8/site-packages/ISS_processing-0.0.0-py3.8.egg/ISS_processing/preprocessing.py:162: FutureWarning: In a future version of pandas all arguments of DataFrame.drop except for the argument 'labels' will be keyword-only.\n",
      "  tiles_df.drop('indexNumber', 1, inplace=True)\n",
      "100%|██████████| 15/15 [00:30<00:00,  2.05s/it]\n",
      "/home/marco/miniforge3/envs/LEE_preprocessing/lib/python3.8/site-packages/ISS_processing-0.0.0-py3.8.egg/ISS_processing/preprocessing.py:162: FutureWarning: In a future version of pandas all arguments of DataFrame.drop except for the argument 'labels' will be keyword-only.\n",
      "  tiles_df.drop('indexNumber', 1, inplace=True)\n",
      "100%|██████████| 15/15 [00:31<00:00,  2.10s/it]\n",
      "/home/marco/miniforge3/envs/LEE_preprocessing/lib/python3.8/site-packages/ISS_processing-0.0.0-py3.8.egg/ISS_processing/preprocessing.py:337: FutureWarning: In a future version of pandas all arguments of DataFrame.drop except for the argument 'labels' will be keyword-only.\n",
      "  tiles_df.drop('indexNumber', 1, inplace = True)\n"
     ]
    },
    {
     "name": "stdout",
     "output_type": "stream",
     "text": [
      "A1 Region4.xlif\n"
     ]
    },
    {
     "name": "stderr",
     "output_type": "stream",
     "text": [
      "100%|██████████| 15/15 [00:01<00:00, 11.81it/s]\n",
      "/home/marco/miniforge3/envs/LEE_preprocessing/lib/python3.8/site-packages/ISS_processing-0.0.0-py3.8.egg/ISS_processing/preprocessing.py:337: FutureWarning: In a future version of pandas all arguments of DataFrame.drop except for the argument 'labels' will be keyword-only.\n",
      "  tiles_df.drop('indexNumber', 1, inplace = True)\n"
     ]
    },
    {
     "name": "stdout",
     "output_type": "stream",
     "text": [
      "A1 Region4.xlif\n"
     ]
    },
    {
     "name": "stderr",
     "output_type": "stream",
     "text": [
      "100%|██████████| 15/15 [00:01<00:00, 14.09it/s]\n",
      "/home/marco/miniforge3/envs/LEE_preprocessing/lib/python3.8/site-packages/ISS_processing-0.0.0-py3.8.egg/ISS_processing/preprocessing.py:337: FutureWarning: In a future version of pandas all arguments of DataFrame.drop except for the argument 'labels' will be keyword-only.\n",
      "  tiles_df.drop('indexNumber', 1, inplace = True)\n"
     ]
    },
    {
     "name": "stdout",
     "output_type": "stream",
     "text": [
      "A1 Region4.xlif\n"
     ]
    },
    {
     "name": "stderr",
     "output_type": "stream",
     "text": [
      "100%|██████████| 15/15 [00:01<00:00, 14.34it/s]\n",
      "/home/marco/miniforge3/envs/LEE_preprocessing/lib/python3.8/site-packages/ISS_processing-0.0.0-py3.8.egg/ISS_processing/preprocessing.py:337: FutureWarning: In a future version of pandas all arguments of DataFrame.drop except for the argument 'labels' will be keyword-only.\n",
      "  tiles_df.drop('indexNumber', 1, inplace = True)\n"
     ]
    },
    {
     "name": "stdout",
     "output_type": "stream",
     "text": [
      "A1 Region4.xlif\n"
     ]
    },
    {
     "name": "stderr",
     "output_type": "stream",
     "text": [
      "100%|██████████| 15/15 [00:01<00:00, 14.61it/s]\n",
      "/home/marco/miniforge3/envs/LEE_preprocessing/lib/python3.8/site-packages/ISS_processing-0.0.0-py3.8.egg/ISS_processing/preprocessing.py:337: FutureWarning: In a future version of pandas all arguments of DataFrame.drop except for the argument 'labels' will be keyword-only.\n",
      "  tiles_df.drop('indexNumber', 1, inplace = True)\n"
     ]
    },
    {
     "name": "stdout",
     "output_type": "stream",
     "text": [
      "A1 Region4.xlif\n"
     ]
    },
    {
     "name": "stderr",
     "output_type": "stream",
     "text": [
      "100%|██████████| 15/15 [00:01<00:00, 14.04it/s]\n"
     ]
    },
    {
     "name": "stdout",
     "output_type": "stream",
     "text": [
      "Cycle 0:\n",
      "    reading /home/marco/Downloads/media/marco/output_folder_natsort_LEE/preprocessing/OME_tiffs/Base_2.ome.tiff\n",
      "    assembling thumbnail 15/15\n",
      "    quantifying alignment error 1000/1000\n",
      "    aligning edge 53/53\n",
      "    Channel 0:\n",
      "        merging tile 15/15\n",
      "        writing to /home/marco/Downloads/media/marco/output_folder_natsort_LEE/preprocessing/stitched/Round0_0.tif\n",
      "    Channel 1:\n",
      "        merging tile 15/15\n",
      "        writing to /home/marco/Downloads/media/marco/output_folder_natsort_LEE/preprocessing/stitched/Round0_1.tif\n",
      "    Channel 2:\n",
      "        merging tile 15/15\n",
      "        writing to /home/marco/Downloads/media/marco/output_folder_natsort_LEE/preprocessing/stitched/Round0_2.tif\n",
      "    Channel 3:\n",
      "        merging tile 15/15\n",
      "        writing to /home/marco/Downloads/media/marco/output_folder_natsort_LEE/preprocessing/stitched/Round0_3.tif\n",
      "    Channel 4:\n",
      "        merging tile 15/15\n",
      "        writing to /home/marco/Downloads/media/marco/output_folder_natsort_LEE/preprocessing/stitched/Round0_4.tif\n",
      "    Channel 5:\n",
      "        merging tile 15/15\n",
      "        writing to /home/marco/Downloads/media/marco/output_folder_natsort_LEE/preprocessing/stitched/Round0_5.tif\n",
      "Cycle 1:\n",
      "    reading /home/marco/Downloads/media/marco/output_folder_natsort_LEE/preprocessing/OME_tiffs/Base_1.ome.tiff\n",
      "    assembling thumbnail 15/15\n",
      "    estimated cycle offset [y x] = [ 62. -40.]\n",
      "    aligning tile 15/15\n",
      "    Channel 0:\n",
      "        merging tile 15/15\n",
      "        writing to /home/marco/Downloads/media/marco/output_folder_natsort_LEE/preprocessing/stitched/Round1_0.tif\n",
      "    Channel 1:\n",
      "        merging tile 15/15\n",
      "        writing to /home/marco/Downloads/media/marco/output_folder_natsort_LEE/preprocessing/stitched/Round1_1.tif\n",
      "    Channel 2:\n",
      "        merging tile 15/15\n",
      "        writing to /home/marco/Downloads/media/marco/output_folder_natsort_LEE/preprocessing/stitched/Round1_2.tif\n",
      "    Channel 3:\n",
      "        merging tile 15/15\n",
      "        writing to /home/marco/Downloads/media/marco/output_folder_natsort_LEE/preprocessing/stitched/Round1_3.tif\n",
      "    Channel 4:\n",
      "        merging tile 15/15\n",
      "        writing to /home/marco/Downloads/media/marco/output_folder_natsort_LEE/preprocessing/stitched/Round1_4.tif\n",
      "    Channel 5:\n",
      "        merging tile 15/15\n",
      "        writing to /home/marco/Downloads/media/marco/output_folder_natsort_LEE/preprocessing/stitched/Round1_5.tif\n",
      "Cycle 2:\n",
      "    reading /home/marco/Downloads/media/marco/output_folder_natsort_LEE/preprocessing/OME_tiffs/Base_4.ome.tiff\n",
      "    assembling thumbnail 15/15\n",
      "    estimated cycle offset [y x] = [82.  4.]\n",
      "    aligning tile 15/15\n",
      "    Channel 0:\n",
      "        merging tile 15/15\n",
      "        writing to /home/marco/Downloads/media/marco/output_folder_natsort_LEE/preprocessing/stitched/Round2_0.tif\n",
      "    Channel 1:\n",
      "        merging tile 15/15\n",
      "        writing to /home/marco/Downloads/media/marco/output_folder_natsort_LEE/preprocessing/stitched/Round2_1.tif\n",
      "    Channel 2:\n",
      "        merging tile 15/15\n",
      "        writing to /home/marco/Downloads/media/marco/output_folder_natsort_LEE/preprocessing/stitched/Round2_2.tif\n",
      "    Channel 3:\n",
      "        merging tile 15/15\n",
      "        writing to /home/marco/Downloads/media/marco/output_folder_natsort_LEE/preprocessing/stitched/Round2_3.tif\n",
      "    Channel 4:\n",
      "        merging tile 15/15\n",
      "        writing to /home/marco/Downloads/media/marco/output_folder_natsort_LEE/preprocessing/stitched/Round2_4.tif\n",
      "    Channel 5:\n",
      "        merging tile 15/15\n",
      "        writing to /home/marco/Downloads/media/marco/output_folder_natsort_LEE/preprocessing/stitched/Round2_5.tif\n",
      "Cycle 3:\n",
      "    reading /home/marco/Downloads/media/marco/output_folder_natsort_LEE/preprocessing/OME_tiffs/Base_5.ome.tiff\n",
      "    assembling thumbnail 15/15\n",
      "    estimated cycle offset [y x] = [19. 20.]\n",
      "    aligning tile 15/15\n",
      "    Channel 0:\n",
      "        merging tile 15/15\n",
      "        writing to /home/marco/Downloads/media/marco/output_folder_natsort_LEE/preprocessing/stitched/Round3_0.tif\n",
      "    Channel 1:\n",
      "        merging tile 15/15\n",
      "        writing to /home/marco/Downloads/media/marco/output_folder_natsort_LEE/preprocessing/stitched/Round3_1.tif\n",
      "    Channel 2:\n",
      "        merging tile 15/15\n",
      "        writing to /home/marco/Downloads/media/marco/output_folder_natsort_LEE/preprocessing/stitched/Round3_2.tif\n",
      "    Channel 3:\n",
      "        merging tile 15/15\n",
      "        writing to /home/marco/Downloads/media/marco/output_folder_natsort_LEE/preprocessing/stitched/Round3_3.tif\n",
      "    Channel 4:\n",
      "        merging tile 15/15\n",
      "        writing to /home/marco/Downloads/media/marco/output_folder_natsort_LEE/preprocessing/stitched/Round3_4.tif\n",
      "    Channel 5:\n",
      "        merging tile 15/15\n",
      "        writing to /home/marco/Downloads/media/marco/output_folder_natsort_LEE/preprocessing/stitched/Round3_5.tif\n",
      "Cycle 4:\n",
      "    reading /home/marco/Downloads/media/marco/output_folder_natsort_LEE/preprocessing/OME_tiffs/Base_3.ome.tiff\n",
      "    assembling thumbnail 15/15\n",
      "    estimated cycle offset [y x] = [32. -4.]\n",
      "    aligning tile 15/15\n",
      "    Channel 0:\n",
      "        merging tile 15/15\n",
      "        writing to /home/marco/Downloads/media/marco/output_folder_natsort_LEE/preprocessing/stitched/Round4_0.tif\n",
      "    Channel 1:\n",
      "        merging tile 15/15\n",
      "        writing to /home/marco/Downloads/media/marco/output_folder_natsort_LEE/preprocessing/stitched/Round4_1.tif\n",
      "    Channel 2:\n",
      "        merging tile 15/15\n",
      "        writing to /home/marco/Downloads/media/marco/output_folder_natsort_LEE/preprocessing/stitched/Round4_2.tif\n",
      "    Channel 3:\n",
      "        merging tile 15/15\n",
      "        writing to /home/marco/Downloads/media/marco/output_folder_natsort_LEE/preprocessing/stitched/Round4_3.tif\n",
      "    Channel 4:\n",
      "        merging tile 15/15\n",
      "        writing to /home/marco/Downloads/media/marco/output_folder_natsort_LEE/preprocessing/stitched/Round4_4.tif\n",
      "    Channel 5:\n",
      "        merging tile 15/15\n",
      "        writing to /home/marco/Downloads/media/marco/output_folder_natsort_LEE/preprocessing/stitched/Round4_5.tif\n",
      "tiling: Round0_0.tif\n",
      "tiling: Round0_1.tif\n",
      "tiling: Round0_2.tif\n",
      "tiling: Round0_3.tif\n",
      "tiling: Round0_4.tif\n",
      "tiling: Round0_5.tif\n",
      "tiling: Round1_0.tif\n",
      "tiling: Round1_1.tif\n",
      "tiling: Round1_2.tif\n",
      "tiling: Round1_3.tif\n",
      "tiling: Round1_4.tif\n",
      "tiling: Round1_5.tif\n",
      "tiling: Round2_0.tif\n",
      "tiling: Round2_1.tif\n",
      "tiling: Round2_2.tif\n",
      "tiling: Round2_3.tif\n",
      "tiling: Round2_4.tif\n",
      "tiling: Round2_5.tif\n",
      "tiling: Round3_0.tif\n",
      "tiling: Round3_1.tif\n",
      "tiling: Round3_2.tif\n",
      "tiling: Round3_3.tif\n",
      "tiling: Round3_4.tif\n",
      "tiling: Round3_5.tif\n",
      "tiling: Round4_0.tif\n",
      "tiling: Round4_1.tif\n",
      "tiling: Round4_2.tif\n",
      "tiling: Round4_3.tif\n",
      "tiling: Round4_4.tif\n",
      "tiling: Round4_5.tif\n"
     ]
    }
   ],
   "source": [
    "pp.preprocessing_main_leica(input_dirs = ['/home/marco/Downloads/media/marco/mountstuff/test_organoid_data_leica-20X/Cycle1/',\n",
    "                                       '/home/marco/Downloads/media/marco/mountstuff/test_organoid_data_leica-20X/Cycle2/',\n",
    "                                       '/home/marco/Downloads/media/marco/mountstuff/test_organoid_data_leica-20X/Cycle3/',\n",
    "                                         '/home/marco/Downloads/media/marco/mountstuff/test_organoid_data_leica-20X/Cycle4/',\n",
    "                                         '/home/marco/Downloads/media/marco/mountstuff/test_organoid_data_leica-20X/Cycle5/'], \n",
    "                output_location = '/home/marco/Downloads/media/marco/output_folder_natsort_LEE',\n",
    "                regions_to_process = 1, \n",
    "                align_channel = 5, \n",
    "                tile_dimension = 6000, \n",
    "                mip = True,\n",
    "                mode = None)"
   ]
  },
  {
   "cell_type": "code",
   "execution_count": null,
   "id": "b6fb5d2e",
   "metadata": {},
   "outputs": [],
   "source": []
  },
  {
   "cell_type": "markdown",
   "id": "c9077578",
   "metadata": {},
   "source": [
    "## Access to individual functions for Leica processing.\n",
    "\n",
    "Instead of running the main function as outlined above, we can also choose to run the step by step subfunctions one at a time. Let's have a quick look at what each function does.\n"
   ]
  },
  {
   "cell_type": "markdown",
   "id": "d1a49cc4",
   "metadata": {},
   "source": [
    "### `leica_mipping`\n",
    "\n",
    "`leica_mipping` is the function to **organise and maximum-project the images from the input folders**. It takes the following arguments, which mirror the same arguments of the main function:\n",
    "\n",
    "`input_dirs`: This will be a list of the complete paths to the folders containing your imaging cycles. The folders need to be specified in the right order (ie. the first element of the list will be the folder where the first cycle of imaging is saved, and so on) The elements need to be separated by commas. The format for this variable is a `lst` of `str`.\n",
    "\n",
    "`output_location` = This will be the path where you want the preprocessing output to be saved. Ideally, this should be associated with some type of unique project identifier. The format of this variable is `str`. In case multiple regions are being processed, the funcion will behave differently depending whether a trailing slash `/` is included or not in `output_location`: \n",
    "- if a trailing slash is added, then subfolders for each one of the scanned regions will be created as `_R1`, `_R2`, etc...\n",
    "- if a trailing slash is omitted, then `output_location` will be updated at each region iteration, and each one of the scanned regions will end up in a different `output_location` named as `output_location_R1`,`output_location_R2`, etc...\n",
    "\n",
    "`mode`: `mode=None` for autosaved data in Leica microscope, `mode='exported'` for exported data in Leica microscope.\n",
    "\n",
    "`leica_mipping` is able to handle multiple regions in the input files, and project them accordingly."
   ]
  },
  {
   "cell_type": "code",
   "execution_count": null,
   "id": "0f44a030",
   "metadata": {},
   "outputs": [],
   "source": [
    "from ISS_processing import preprocessing \n",
    "\n",
    "pp.leica_mipping(input_dirs = ['/path/to/cycle1/',\n",
    "                                       '/path/to/cycle2/',\n",
    "                                       '/path/to/cycle3/'], \n",
    "                output_dir_prefix = '/path/to/output_folder/',\n",
    "                mode = None)"
   ]
  },
  {
   "cell_type": "markdown",
   "id": "b3063dbf",
   "metadata": {},
   "source": [
    "### `leica_OME_tiff`\n",
    "`leica_OME_tiff` is the function that **takes the projected images across channels and wraps them into a single OMEtiff per imaging cycle**. This steps organises the files corresponding to each imaging cycles in a specific way within a single file and requires the parsing of a Metadata file to arrange correctly the images in xy space. As explained before, the input for this function is the specific sub-folder within `output_location` one wishes to process. **This function does not allow to process multiple regions in one go, and needs to be run on individual regions manually**.\n",
    "\n",
    "The function outputs 1 OMEtiff file per cycle into the `/preprocessing/OME_tiffs/` subfolder.\n",
    "\n"
   ]
  },
  {
   "cell_type": "code",
   "execution_count": 6,
   "id": "79a697dc",
   "metadata": {},
   "outputs": [
    {
     "name": "stdout",
     "output_type": "stream",
     "text": [
      "A1 Region4.xlif\n"
     ]
    },
    {
     "name": "stderr",
     "output_type": "stream",
     "text": [
      "100%|██████████| 15/15 [00:01<00:00, 12.05it/s]\n"
     ]
    },
    {
     "name": "stdout",
     "output_type": "stream",
     "text": [
      "A1 Region4.xlif\n"
     ]
    },
    {
     "name": "stderr",
     "output_type": "stream",
     "text": [
      "100%|██████████| 15/15 [00:01<00:00, 13.73it/s]\n"
     ]
    },
    {
     "name": "stdout",
     "output_type": "stream",
     "text": [
      "A1 Region4.xlif\n"
     ]
    },
    {
     "name": "stderr",
     "output_type": "stream",
     "text": [
      "100%|██████████| 15/15 [00:01<00:00, 12.43it/s]\n"
     ]
    },
    {
     "name": "stdout",
     "output_type": "stream",
     "text": [
      "A1 Region4.xlif\n"
     ]
    },
    {
     "name": "stderr",
     "output_type": "stream",
     "text": [
      "100%|██████████| 15/15 [00:01<00:00, 13.89it/s]\n"
     ]
    },
    {
     "name": "stdout",
     "output_type": "stream",
     "text": [
      "A1 Region4.xlif\n"
     ]
    },
    {
     "name": "stderr",
     "output_type": "stream",
     "text": [
      "100%|██████████| 15/15 [00:01<00:00, 13.24it/s]\n"
     ]
    }
   ],
   "source": [
    "from ISS_processing import preprocessing \n",
    "\n",
    "path = '/home/marco/Downloads/media/marco/mountstuff/rfl_test/'\n",
    "# create leica OME_tiffs\n",
    "pp.leica_OME_tiff(\n",
    "    directory_base = path+'/preprocessing/mipped/',\n",
    "    output_directory = path+'/preprocessing/OME_tiffs/'\n",
    ")"
   ]
  },
  {
   "cell_type": "markdown",
   "id": "08ecf3ad",
   "metadata": {},
   "source": [
    "### `ashlar_wrapper`\n",
    "\n",
    "This function runs `ashlar`, a package for image stitching and cycle alignment. The function uses the OME_tiffs files as an input, takes as input a channel number (normally the DAPI, see above) and on that channels performs all the alignment and stitching operations.\n",
    "\n",
    "The function outputs 1 stitched file per cycle and channel into the `/preprocessing/stitched/` subfolder"
   ]
  },
  {
   "cell_type": "code",
   "execution_count": 7,
   "id": "c46d7943",
   "metadata": {},
   "outputs": [
    {
     "name": "stdout",
     "output_type": "stream",
     "text": [
      "Cycle 0:\n",
      "    reading /home/marco/Downloads/media/marco/mountstuff/rfl_test//preprocessing/OME_tiffs/Base_2.ome.tiff\n",
      "    assembling thumbnail 15/15\n",
      "    quantifying alignment error 1000/1000\n",
      "    aligning edge 53/53\n",
      "    Channel 0:\n",
      "        merging tile 15/15\n",
      "        writing to /home/marco/Downloads/media/marco/mountstuff/rfl_test/preprocessing/stitched/Round0_0.tif\n",
      "    Channel 1:\n",
      "        merging tile 15/15\n",
      "        writing to /home/marco/Downloads/media/marco/mountstuff/rfl_test/preprocessing/stitched/Round0_1.tif\n",
      "    Channel 2:\n",
      "        merging tile 15/15\n",
      "        writing to /home/marco/Downloads/media/marco/mountstuff/rfl_test/preprocessing/stitched/Round0_2.tif\n",
      "    Channel 3:\n",
      "        merging tile 15/15\n",
      "        writing to /home/marco/Downloads/media/marco/mountstuff/rfl_test/preprocessing/stitched/Round0_3.tif\n",
      "    Channel 4:\n",
      "        merging tile 15/15\n",
      "        writing to /home/marco/Downloads/media/marco/mountstuff/rfl_test/preprocessing/stitched/Round0_4.tif\n",
      "    Channel 5:\n",
      "        merging tile 15/15\n",
      "        writing to /home/marco/Downloads/media/marco/mountstuff/rfl_test/preprocessing/stitched/Round0_5.tif\n",
      "Cycle 1:\n",
      "    reading /home/marco/Downloads/media/marco/mountstuff/rfl_test//preprocessing/OME_tiffs/Base_1.ome.tiff\n",
      "    assembling thumbnail 15/15\n",
      "    estimated cycle offset [y x] = [ 61. -40.]\n",
      "    aligning tile 15/15\n",
      "    Channel 0:\n",
      "        merging tile 15/15\n",
      "        writing to /home/marco/Downloads/media/marco/mountstuff/rfl_test/preprocessing/stitched/Round1_0.tif\n",
      "    Channel 1:\n",
      "        merging tile 15/15\n",
      "        writing to /home/marco/Downloads/media/marco/mountstuff/rfl_test/preprocessing/stitched/Round1_1.tif\n",
      "    Channel 2:\n",
      "        merging tile 15/15\n",
      "        writing to /home/marco/Downloads/media/marco/mountstuff/rfl_test/preprocessing/stitched/Round1_2.tif\n",
      "    Channel 3:\n",
      "        merging tile 15/15\n",
      "        writing to /home/marco/Downloads/media/marco/mountstuff/rfl_test/preprocessing/stitched/Round1_3.tif\n",
      "    Channel 4:\n",
      "        merging tile 15/15\n",
      "        writing to /home/marco/Downloads/media/marco/mountstuff/rfl_test/preprocessing/stitched/Round1_4.tif\n",
      "    Channel 5:\n",
      "        merging tile 15/15\n",
      "        writing to /home/marco/Downloads/media/marco/mountstuff/rfl_test/preprocessing/stitched/Round1_5.tif\n",
      "Cycle 2:\n",
      "    reading /home/marco/Downloads/media/marco/mountstuff/rfl_test//preprocessing/OME_tiffs/Base_4.ome.tiff\n",
      "    assembling thumbnail 15/15\n",
      "    estimated cycle offset [y x] = [81.  3.]\n",
      "    aligning tile 15/15\n",
      "    Channel 0:\n",
      "        merging tile 15/15\n",
      "        writing to /home/marco/Downloads/media/marco/mountstuff/rfl_test/preprocessing/stitched/Round2_0.tif\n",
      "    Channel 1:\n",
      "        merging tile 15/15\n",
      "        writing to /home/marco/Downloads/media/marco/mountstuff/rfl_test/preprocessing/stitched/Round2_1.tif\n",
      "    Channel 2:\n",
      "        merging tile 15/15\n",
      "        writing to /home/marco/Downloads/media/marco/mountstuff/rfl_test/preprocessing/stitched/Round2_2.tif\n",
      "    Channel 3:\n",
      "        merging tile 15/15\n",
      "        writing to /home/marco/Downloads/media/marco/mountstuff/rfl_test/preprocessing/stitched/Round2_3.tif\n",
      "    Channel 4:\n",
      "        merging tile 15/15\n",
      "        writing to /home/marco/Downloads/media/marco/mountstuff/rfl_test/preprocessing/stitched/Round2_4.tif\n",
      "    Channel 5:\n",
      "        merging tile 15/15\n",
      "        writing to /home/marco/Downloads/media/marco/mountstuff/rfl_test/preprocessing/stitched/Round2_5.tif\n",
      "Cycle 3:\n",
      "    reading /home/marco/Downloads/media/marco/mountstuff/rfl_test//preprocessing/OME_tiffs/Base_5.ome.tiff\n",
      "    assembling thumbnail 15/15\n",
      "    estimated cycle offset [y x] = [20. 20.]\n",
      "    aligning tile 15/15\n",
      "    Channel 0:\n",
      "        merging tile 15/15\n",
      "        writing to /home/marco/Downloads/media/marco/mountstuff/rfl_test/preprocessing/stitched/Round3_0.tif\n",
      "    Channel 1:\n",
      "        merging tile 15/15\n",
      "        writing to /home/marco/Downloads/media/marco/mountstuff/rfl_test/preprocessing/stitched/Round3_1.tif\n",
      "    Channel 2:\n",
      "        merging tile 15/15\n",
      "        writing to /home/marco/Downloads/media/marco/mountstuff/rfl_test/preprocessing/stitched/Round3_2.tif\n",
      "    Channel 3:\n",
      "        merging tile 15/15\n",
      "        writing to /home/marco/Downloads/media/marco/mountstuff/rfl_test/preprocessing/stitched/Round3_3.tif\n",
      "    Channel 4:\n",
      "        merging tile 15/15\n",
      "        writing to /home/marco/Downloads/media/marco/mountstuff/rfl_test/preprocessing/stitched/Round3_4.tif\n",
      "    Channel 5:\n",
      "        merging tile 15/15\n",
      "        writing to /home/marco/Downloads/media/marco/mountstuff/rfl_test/preprocessing/stitched/Round3_5.tif\n",
      "Cycle 4:\n",
      "    reading /home/marco/Downloads/media/marco/mountstuff/rfl_test//preprocessing/OME_tiffs/Base_3.ome.tiff\n",
      "    assembling thumbnail 15/15\n",
      "    estimated cycle offset [y x] = [33. -3.]\n",
      "    aligning tile 15/15\n",
      "    Channel 0:\n",
      "        merging tile 15/15\n",
      "        writing to /home/marco/Downloads/media/marco/mountstuff/rfl_test/preprocessing/stitched/Round4_0.tif\n",
      "    Channel 1:\n",
      "        merging tile 15/15\n",
      "        writing to /home/marco/Downloads/media/marco/mountstuff/rfl_test/preprocessing/stitched/Round4_1.tif\n",
      "    Channel 2:\n",
      "        merging tile 15/15\n",
      "        writing to /home/marco/Downloads/media/marco/mountstuff/rfl_test/preprocessing/stitched/Round4_2.tif\n",
      "    Channel 3:\n",
      "        merging tile 15/15\n",
      "        writing to /home/marco/Downloads/media/marco/mountstuff/rfl_test/preprocessing/stitched/Round4_3.tif\n",
      "    Channel 4:\n",
      "        merging tile 15/15\n",
      "        writing to /home/marco/Downloads/media/marco/mountstuff/rfl_test/preprocessing/stitched/Round4_4.tif\n",
      "    Channel 5:\n",
      "        merging tile 15/15\n",
      "        writing to /home/marco/Downloads/media/marco/mountstuff/rfl_test/preprocessing/stitched/Round4_5.tif\n"
     ]
    },
    {
     "data": {
      "text/plain": [
       "0"
      ]
     },
     "execution_count": 7,
     "metadata": {},
     "output_type": "execute_result"
    }
   ],
   "source": [
    "from ISS_processing import preprocessing \n",
    "\n",
    "# align and stitch images\n",
    "path = '/home/marco/Downloads/media/marco/mountstuff/rfl_test/'\n",
    "OME_tiffs = os.listdir(path+'/preprocessing/OME_tiffs/')\n",
    "OME_tiffs = [path+'/preprocessing/OME_tiffs/' + sub for sub in OME_tiffs]\n",
    "\n",
    "pp.ashlar_wrapper(\n",
    "    files = OME_tiffs,\n",
    "    output = path+'/preprocessing/stitched/',\n",
    "    align_channel=4\n",
    ")\n"
   ]
  },
  {
   "cell_type": "markdown",
   "id": "396a359d",
   "metadata": {},
   "source": [
    "### `tile_stitched_images`\n",
    "In this function the stitched images are re-tiled according to a user-specified size.\n",
    "The reason for this is that stitched images are too big to be decoded directly and we prefer to decode them in tiles. This has several advantages, most notably that the pipeline would work also on laptops or non-powerful computers. The idea tile size is 4000-6000, but larger or smaller are also fine depending on the computer."
   ]
  },
  {
   "cell_type": "code",
   "execution_count": 8,
   "id": "a6a9df82",
   "metadata": {},
   "outputs": [
    {
     "name": "stdout",
     "output_type": "stream",
     "text": [
      "tiling: Round0_0.tif\n",
      "tiling: Round0_1.tif\n",
      "tiling: Round0_2.tif\n",
      "tiling: Round0_3.tif\n",
      "tiling: Round0_4.tif\n",
      "tiling: Round0_5.tif\n",
      "tiling: Round1_0.tif\n",
      "tiling: Round1_1.tif\n",
      "tiling: Round1_2.tif\n",
      "tiling: Round1_3.tif\n",
      "tiling: Round1_4.tif\n",
      "tiling: Round1_5.tif\n",
      "tiling: Round2_0.tif\n",
      "tiling: Round2_1.tif\n",
      "tiling: Round2_2.tif\n",
      "tiling: Round2_3.tif\n",
      "tiling: Round2_4.tif\n",
      "tiling: Round2_5.tif\n",
      "tiling: Round3_0.tif\n",
      "tiling: Round3_1.tif\n",
      "tiling: Round3_2.tif\n",
      "tiling: Round3_3.tif\n",
      "tiling: Round3_4.tif\n",
      "tiling: Round3_5.tif\n",
      "tiling: Round4_0.tif\n",
      "tiling: Round4_1.tif\n",
      "tiling: Round4_2.tif\n",
      "tiling: Round4_3.tif\n",
      "tiling: Round4_4.tif\n",
      "tiling: Round4_5.tif\n"
     ]
    }
   ],
   "source": [
    "from ISS_processing import preprocessing \n",
    "\n",
    "# align and stitch images\n",
    "path = '/home/marco/Downloads/media/marco/mountstuff/rfl_test/'\n",
    "\n",
    "# retile stitched images\n",
    "pp.tile_stitched_images(\n",
    "    image_path = path+'/preprocessing/stitched/',\n",
    "    outpath = path+'/preprocessing/ReslicedTiles/',\n",
    "    tile_dim=4000\n",
    ")\n",
    "\n"
   ]
  },
  {
   "cell_type": "code",
   "execution_count": null,
   "id": "0b581883",
   "metadata": {},
   "outputs": [],
   "source": []
  },
  {
   "cell_type": "code",
   "execution_count": null,
   "id": "78c7c7dc",
   "metadata": {},
   "outputs": [],
   "source": []
  },
  {
   "cell_type": "code",
   "execution_count": null,
   "id": "6288dd08",
   "metadata": {},
   "outputs": [],
   "source": []
  }
 ],
 "metadata": {
  "kernelspec": {
   "display_name": "LEE_preprocessing",
   "language": "python",
   "name": "lee_preprocessing"
  },
  "language_info": {
   "codemirror_mode": {
    "name": "ipython",
    "version": 3
   },
   "file_extension": ".py",
   "mimetype": "text/x-python",
   "name": "python",
   "nbconvert_exporter": "python",
   "pygments_lexer": "ipython3",
   "version": "3.8.12"
  }
 },
 "nbformat": 4,
 "nbformat_minor": 5
}
