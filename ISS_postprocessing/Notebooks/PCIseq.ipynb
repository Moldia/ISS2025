{
 "cells": [
  {
   "cell_type": "markdown",
   "id": "0889b94a",
   "metadata": {},
   "source": [
    "# Probabilistic cell typing\n",
    "\n",
    "This notebooks guides you through the integration of ISS data with pre-existing clustered and annotated scRNAseq datasets, using Probabilistic Cell Typing (PCIseq).\n",
    "\n",
    "Please have a look at:\n",
    "https://www.nature.com/articles/s41592-019-0631-4\n",
    "https://github.com/acycliq/pciSeq\n",
    "\n",
    "\n",
    "Using this method, and if the genes measured by ISS have been accurately chosen for the task, it is possible to link these 2 modalities, and put on a geographical map the clusters inferred by scRNAseq in a coupled dataset."
   ]
  },
  {
   "cell_type": "markdown",
   "id": "5fc4165b",
   "metadata": {},
   "source": [
    "## Import the necessary modules"
   ]
  },
  {
   "cell_type": "code",
   "execution_count": null,
   "id": "fe806d18",
   "metadata": {},
   "outputs": [],
   "source": [
    "import os\n",
    "import numpy as np\n",
    "import pandas as pd\n",
    "import skimage.color\n",
    "import matplotlib.pyplot as plt\n",
    "from scipy.sparse import load_npz, coo_matrix\n",
    "from ISS_postprocessing import pciseq"
   ]
  },
  {
   "cell_type": "markdown",
   "id": "d3748c78",
   "metadata": {},
   "source": [
    "## Read the single cell RNA sequencing dataset\n",
    "\n",
    "In this step we can either input a clustered scRNAseq object, or even just a table with the average expression data per cluster."
   ]
  },
  {
   "cell_type": "code",
   "execution_count": null,
   "id": "f64543a5",
   "metadata": {},
   "outputs": [],
   "source": [
    "sc_file = ('/media/marco/Meola/CHK_NOV22/mean_expression_sc_gallus_input_for_pciseq_82genes.csv')"
   ]
  },
  {
   "cell_type": "code",
   "execution_count": 2,
   "id": "aa68cdc2",
   "metadata": {},
   "outputs": [],
   "source": [
    "scRNAseq = pd.read_csv(sc_file, header=None, index_col=0, compression=None, dtype=object)\n",
    "scRNAseq = scRNAseq.rename(columns=scRNAseq.iloc[0], copy=False).iloc[1:]\n",
    "scRNAseq = scRNAseq.astype(float)\n"
   ]
  },
  {
   "cell_type": "code",
   "execution_count": null,
   "id": "1678c8b7",
   "metadata": {},
   "outputs": [],
   "source": [
    "# We can show the data to have a look and confirm everything looks as it should.\n",
    "scRNAseq"
   ]
  },
  {
   "cell_type": "markdown",
   "id": "e71bad19",
   "metadata": {},
   "source": [
    "## Import the segmentation mask and the ISS data\n",
    "\n",
    "In the following blocks of code, we read the segmentation mask and the ISS decoded data, respectively in the `coo_file` and `spots_file` variables."
   ]
  },
  {
   "cell_type": "code",
   "execution_count": null,
   "id": "172c0032",
   "metadata": {},
   "outputs": [],
   "source": [
    "coo_file = ('/media/marco/Meola/CHK_NOV22/CHK2_18_CARE/stardist_segmentation_expanded.npz')\n",
    "spots_file = ('/media/marco/Meola/CHK_NOV22/CHK2_18_CARE/decoding_PRMC_MH/decoded.csv')"
   ]
  },
  {
   "cell_type": "code",
   "execution_count": null,
   "id": "0991acd9",
   "metadata": {},
   "outputs": [],
   "source": [
    "coo = load_npz(coo_file)\n",
    "iss_spots = pd.read_csv(spots_file)"
   ]
  },
  {
   "cell_type": "code",
   "execution_count": null,
   "id": "bc57af7f",
   "metadata": {},
   "outputs": [],
   "source": []
  },
  {
   "cell_type": "markdown",
   "id": "8beeaabd",
   "metadata": {},
   "source": [
    "## Preprocessing the spots\n",
    "\n",
    "We can now, if we haven't done it yet, filter the spots according to a quality criterion. Please read the manual to understand the different filtering criteria, and meaningful thresholds.\n",
    "\n",
    "We then clean up the various data (scRNAseq and ISS) in order to exclude all the genes that are not present in both modalities, as they are not informative for the integration of the data."
   ]
  },
  {
   "cell_type": "code",
   "execution_count": null,
   "id": "2c459f2c",
   "metadata": {},
   "outputs": [],
   "source": [
    "spots_filt = iss_spots.loc[iss_spots['quality_minimum'] > 0.5]\n",
    "processed_spots=pciseq.preprocess_spots(spots_filt, conversion_factor = 0.1625)\n",
    "\n",
    "#select overlapping gene set bewtween ISS and scRNAseq\n",
    "ISS=list(processed_spots['Gene'])\n",
    "output = []\n",
    "for x in ISS:\n",
    "    if x not in output:\n",
    "        output.append(x)\n",
    "#print(output)\n",
    "overlap=list(set(scseq).intersection(output))\n",
    "scrnaseq_clean = trasposed.filter(items=overlap, axis=0)\n",
    "processed_spots_clean = processed_spots[processed_spots['Gene'].isin(overlap)]\n",
    "\n"
   ]
  },
  {
   "cell_type": "markdown",
   "id": "a46f0cbc",
   "metadata": {},
   "source": [
    "Then we set an output directory, where the PCIseq output will be stored"
   ]
  },
  {
   "cell_type": "code",
   "execution_count": null,
   "id": "b7610715",
   "metadata": {},
   "outputs": [],
   "source": [
    "output_dir='/media/marco/Meola/CHK_NOV22/PCIseq_new/chk2_18_expanded/'"
   ]
  },
  {
   "cell_type": "markdown",
   "id": "15770296",
   "metadata": {},
   "source": [
    "## Running PCIseq\n",
    "\n",
    "Now we can finally run the Probabilistic Cell Typing algorithm. The python implementation is quite slow, so allow for some time especially if working with large datasets."
   ]
  },
  {
   "cell_type": "code",
   "execution_count": null,
   "id": "b35e8e7d",
   "metadata": {},
   "outputs": [],
   "source": [
    "pciseq.run_pciseq(processed_spots_clean, coo, scrnaseq_clean, output_dir, save_output = True)"
   ]
  },
  {
   "cell_type": "markdown",
   "id": "e1d34fe8",
   "metadata": {},
   "source": [
    "# Read the PCIseq output and plot the data\n",
    "\n",
    "PCIseq is **probabilistic** in 2 ways:\n",
    "1. it calculates the probability of each cell to be a specific cell type or another\n",
    "2. it calculates the probablity of a given ISS spot to belong to a cell or another\n",
    "\n",
    "Now, in the folder we indicated above as output, 3 files should have appeared:\n",
    "\n",
    "`most_probable.csv` This is a table containing a list of cells, their xy position, the most probable cell types they have been assigned to and the probability of the assignment.\n",
    "\n",
    "`geneData.json` This is a table that contains a list of spots, the cell they have been assigned to and the probability of that assignment.\n",
    "\n",
    "`cellData.json` This is a more complex table at a cell level, including secondary probabilities and other data\n",
    "\n",
    "We begin by reading the `most_probable.csv` file."
   ]
  },
  {
   "cell_type": "code",
   "execution_count": 10,
   "id": "dac28ca1",
   "metadata": {},
   "outputs": [],
   "source": [
    "pcifile = ('/media/marco/Meola/CHK_NOV22/PCIseq_new/chk2_18_expanded/most_probable.csv')\n",
    "pciout = pd.read_csv(pcifile)"
   ]
  },
  {
   "cell_type": "markdown",
   "id": "6618afcd",
   "metadata": {},
   "source": [
    "The `pciout['ClassName']` column will contain the primary assignment for each cell, and the `pciout['Prob']` will contain the probability of that assignment.\n",
    "\n",
    "For each cluster, we can plot the cells, together with their color-coded PCIseq probability using the following code:"
   ]
  },
  {
   "cell_type": "code",
   "execution_count": null,
   "id": "0ded8654",
   "metadata": {},
   "outputs": [],
   "source": [
    "import seaborn as sns\n",
    "for cluster in clusters.unique():\n",
    "    plt.figure(figsize=(15, 15))\n",
    "    print (cluster)\n",
    "    pcigene=pciout.loc[pciout['ClassName'] == cluster]\n",
    "    sns.scatterplot(x='X', y='Y', hue='Prob', data=pcigene,  palette='rainbow', s=5)\n",
    "    plt.show()"
   ]
  },
  {
   "cell_type": "code",
   "execution_count": null,
   "id": "f00f8f63",
   "metadata": {},
   "outputs": [],
   "source": []
  }
 ],
 "metadata": {
  "kernelspec": {
   "display_name": "ISS_postprocessing",
   "language": "python",
   "name": "iss_postprocessing"
  },
  "language_info": {
   "codemirror_mode": {
    "name": "ipython",
    "version": 3
   },
   "file_extension": ".py",
   "mimetype": "text/x-python",
   "name": "python",
   "nbconvert_exporter": "python",
   "pygments_lexer": "ipython3",
   "version": "3.10.12"
  }
 },
 "nbformat": 4,
 "nbformat_minor": 5
}
