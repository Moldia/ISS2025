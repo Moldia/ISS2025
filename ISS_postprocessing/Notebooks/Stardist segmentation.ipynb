{
 "cells": [
  {
   "cell_type": "markdown",
   "id": "e1f29b9f-f228-4326-b552-34d3cf9925e5",
   "metadata": {},
   "source": [
    "# Cell segmentation using Stardist"
   ]
  },
  {
   "cell_type": "markdown",
   "id": "d2f896ad-0f6c-465f-b7aa-960539486d8e",
   "metadata": {},
   "source": [
    "## Import packages\n",
    "We import the necessary packages. `ISS_postprocessing` includes some modules requiring a functional and properly installed CUDA-compatible GPU. They will work but they will be considerably slower on CPU."
   ]
  },
  {
   "cell_type": "code",
   "execution_count": 2,
   "id": "3e64f32a-49e6-458e-b436-0c176e01b46f",
   "metadata": {},
   "outputs": [],
   "source": [
    "import ISS_postprocessing\n",
    "import numpy as np\n",
    "import matplotlib.pyplot as plt"
   ]
  },
  {
   "cell_type": "markdown",
   "id": "f4104f1f-54e2-45aa-990b-8ea54c3d3237",
   "metadata": {},
   "source": [
    "In the following code block you need to add the paths to each one of the samples you want to post-process. Note that you can post-process multiple samples in one go, but they will all be analysed in the same way. This is normally OK, but there might be exceptions in which you want to treat your samples differently for some reason.\n"
   ]
  },
  {
   "cell_type": "code",
   "execution_count": 4,
   "id": "b35373c5-7fbc-407f-8d8f-a6114a56af70",
   "metadata": {},
   "outputs": [],
   "source": [
    "samples = ['/home/marco/Downloads/media/marco/output_folder_natsort']"
   ]
  },
  {
   "cell_type": "markdown",
   "id": "ccef4d93-9876-4bfb-9c7a-3a06e7edca0f",
   "metadata": {},
   "source": [
    "## Cell segmentation\n",
    "\n",
    "In this step we will first build a **segmentation mask** based on the DAPI signal, so the script will search for a DAPI file in the subfolders within each sample folder. The file that is typically loaded is at `/sample/preprocessing/stitched/Round0_4.tif`, so it's the stitched DAPI image corresponding to the first imaging cycle. Please change the channel number if DAPI is not in the indicated channel.\n",
    "\n",
    "The `ISS_postprocessing.segmentation` implements several method for cell segmentation, based on `stardist` or `cellpose`. Custom segmentation using other methods can also be performed, but need to be done externally to this notebook.\n",
    "\n",
    "In this specific tutorial, `stardist` is implemented. Have a look at the functions in `ISS_postprocessing.segmentation` for alternative strategies.\n",
    "\n",
    "In the following function the following parameters can be speficied:\n",
    "\n",
    "`image_path`: the path to the DAPI image as a string. In this example case it's automatically built within the loop\n",
    "\n",
    "`output_path` = where the image will be saved \n",
    "\n",
    "`model_name` = '2D_versatile_fluo', this is one of the pre-trained model from `stardist`. Can be changed to a custom model or other pre-trained models. Please consult the `stardist` documentation\n",
    "\n",
    "`expand_cells` = determines whether, post-segmentation, each cell needs to be expanded. Default==True. Expansion allows to capture perinuclear/extranuclear signal and it is advisable (although with caution, read below)\n",
    "\n",
    "`n_tiles` = (x,y) allows to tile the image in smaller blocks for faster processing. Default=(4,4) \n",
    "\n",
    "`expanded_distance` = 20 determines how much each nucleus is expanded (in pixels)"
   ]
  },
  {
   "cell_type": "code",
   "execution_count": null,
   "id": "8800421c-e6d5-49bb-8b1a-f9266b5c3796",
   "metadata": {},
   "outputs": [],
   "source": [
    "for sample in samples: \n",
    "    ISS_postprocessing.segmentation.stardist_segmentation(image_path = sample + '/preprocessing/stitched/Round0_4.tif', \n",
    "                                                      output_path = sample, \n",
    "                                                      model_name = '2D_versatile_fluo',\n",
    "                                                      expand_cells = True, \n",
    "                                                      n_tiles = (4,4), \n",
    "                                                      expanded_distance = 20,)"
   ]
  }
 ],
 "metadata": {
  "kernelspec": {
   "display_name": "ISS_postprocessing",
   "language": "python",
   "name": "iss_postprocessing"
  },
  "language_info": {
   "codemirror_mode": {
    "name": "ipython",
    "version": 3
   },
   "file_extension": ".py",
   "mimetype": "text/x-python",
   "name": "python",
   "nbconvert_exporter": "python",
   "pygments_lexer": "ipython3",
   "version": "3.11.0"
  }
 },
 "nbformat": 4,
 "nbformat_minor": 5
}
