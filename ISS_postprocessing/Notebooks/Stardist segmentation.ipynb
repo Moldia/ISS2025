{
 "cells": [
  {
   "cell_type": "markdown",
   "id": "e1f29b9f-f228-4326-b552-34d3cf9925e5",
   "metadata": {},
   "source": [
    "# Cell segmentation using Stardist"
   ]
  },
  {
   "cell_type": "markdown",
   "id": "d2f896ad-0f6c-465f-b7aa-960539486d8e",
   "metadata": {},
   "source": [
    "## Import packages\n",
    "We import the necessary packages. `ISS_postprocessing` includes some modules requiring a functional and properly installed CUDA-compatible GPU. They will work but they will be considerably slower on CPU."
   ]
  },
  {
   "cell_type": "code",
   "execution_count": 1,
   "id": "3e64f32a-49e6-458e-b436-0c176e01b46f",
   "metadata": {},
   "outputs": [
    {
     "name": "stdout",
     "output_type": "stream",
     "text": [
      "\n",
      "\n",
      "Welcome to CellposeSAM, cellpose v\n",
      "cellpose version: \t4.0.4 \n",
      "platform:       \tlinux \n",
      "python version: \t3.11.0 \n",
      "torch version:  \t2.7.0+cu126! The neural network component of\n",
      "CPSAM is much larger than in previous versions and CPU excution is slow. \n",
      "We encourage users to use GPU/MPS if available. \n",
      "\n",
      "\n"
     ]
    },
    {
     "name": "stderr",
     "output_type": "stream",
     "text": [
      "model_type argument is not used in v4.0.1+. Ignoring this argument...\n",
      "model_type argument is not used in v4.0.1+. Ignoring this argument...\n"
     ]
    }
   ],
   "source": [
    "import ISS_postprocessing\n",
    "import numpy as np\n",
    "import matplotlib.pyplot as plt"
   ]
  },
  {
   "cell_type": "markdown",
   "id": "f4104f1f-54e2-45aa-990b-8ea54c3d3237",
   "metadata": {},
   "source": [
    "In the following code block you need to add the paths to each one of the samples you want to post-process. Note that you can post-process multiple samples in one go, but they will all be analysed in the same way. This is normally OK, but there might be exceptions in which you want to treat your samples differently for some reason.\n"
   ]
  },
  {
   "cell_type": "code",
   "execution_count": 2,
   "id": "b35373c5-7fbc-407f-8d8f-a6114a56af70",
   "metadata": {},
   "outputs": [],
   "source": [
    "samples = ['/home/marco/Downloads/media/marco/mountstuff/rfl_test/',\n",
    "          '/home/marco/Downloads/media/marco/mountstuff/standard_preprocessing/']"
   ]
  },
  {
   "cell_type": "markdown",
   "id": "ccef4d93-9876-4bfb-9c7a-3a06e7edca0f",
   "metadata": {},
   "source": [
    "## Cell segmentation\n",
    "\n",
    "In this step we will first build a **segmentation mask** based on the DAPI signal, so the script will search for a DAPI file in the subfolders within each sample folder. The file that is typically loaded is at `/sample/preprocessing/stitched/Round0_4.tif`, so it's the stitched DAPI image corresponding to the first imaging cycle. Please change the channel number if DAPI is not in the indicated channel.\n",
    "\n",
    "The `ISS_postprocessing.segmentation` implements several method for cell segmentation, based on `stardist` or `cellpose`. Custom segmentation using other methods can also be performed, but need to be done externally to this notebook.\n",
    "\n",
    "In this specific tutorial, `stardist` is implemented. Have a look at the functions in `ISS_postprocessing.segmentation` for alternative strategies.\n",
    "\n",
    "In the following function the following parameters can be speficied:\n",
    "\n",
    "`image_path`: the path to the DAPI image as a string. In this example case it's automatically built within the loop\n",
    "\n",
    "`output_path` = where the image will be saved \n",
    "\n",
    "`model_name` = '2D_versatile_fluo', this is one of the pre-trained model from `stardist`. Can be changed to a custom model or other pre-trained models. Please consult the `stardist` documentation\n",
    "\n",
    "`expand_cells` = determines whether, post-segmentation, each cell needs to be expanded. Default==True. Expansion allows to capture perinuclear/extranuclear signal and it is advisable (although with caution, read below)\n",
    "\n",
    "`n_tiles` = (x,y) allows to tile the image in smaller blocks for faster processing. Default=(4,4) \n",
    "\n",
    "`expanded_distance` = 20 determines how much each nucleus is expanded (in pixels)"
   ]
  },
  {
   "cell_type": "code",
   "execution_count": 3,
   "id": "8800421c-e6d5-49bb-8b1a-f9266b5c3796",
   "metadata": {},
   "outputs": [
    {
     "name": "stderr",
     "output_type": "stream",
     "text": [
      "2025-05-29 21:15:30.820339: I tensorflow/core/util/port.cc:113] oneDNN custom operations are on. You may see slightly different numerical results due to floating-point round-off errors from different computation orders. To turn them off, set the environment variable `TF_ENABLE_ONEDNN_OPTS=0`.\n",
      "2025-05-29 21:15:30.943278: E external/local_xla/xla/stream_executor/cuda/cuda_dnn.cc:9261] Unable to register cuDNN factory: Attempting to register factory for plugin cuDNN when one has already been registered\n",
      "2025-05-29 21:15:30.943337: E external/local_xla/xla/stream_executor/cuda/cuda_fft.cc:607] Unable to register cuFFT factory: Attempting to register factory for plugin cuFFT when one has already been registered\n",
      "2025-05-29 21:15:30.962316: E external/local_xla/xla/stream_executor/cuda/cuda_blas.cc:1515] Unable to register cuBLAS factory: Attempting to register factory for plugin cuBLAS when one has already been registered\n",
      "2025-05-29 21:15:31.004103: I tensorflow/core/platform/cpu_feature_guard.cc:182] This TensorFlow binary is optimized to use available CPU instructions in performance-critical operations.\n",
      "To enable the following instructions: AVX2 AVX_VNNI FMA, in other operations, rebuild TensorFlow with the appropriate compiler flags.\n",
      "2025-05-29 21:15:31.709625: W tensorflow/compiler/tf2tensorrt/utils/py_utils.cc:38] TF-TRT Warning: Could not find TensorRT\n"
     ]
    },
    {
     "name": "stdout",
     "output_type": "stream",
     "text": [
      "Found model '2D_versatile_fluo' for 'StarDist2D'.\n"
     ]
    },
    {
     "name": "stderr",
     "output_type": "stream",
     "text": [
      "2025-05-29 21:15:32.385130: I external/local_xla/xla/stream_executor/cuda/cuda_executor.cc:901] successful NUMA node read from SysFS had negative value (-1), but there must be at least one NUMA node, so returning NUMA node zero. See more at https://github.com/torvalds/linux/blob/v6.0/Documentation/ABI/testing/sysfs-bus-pci#L344-L355\n",
      "2025-05-29 21:15:32.388335: W tensorflow/core/common_runtime/gpu/gpu_device.cc:2256] Cannot dlopen some GPU libraries. Please make sure the missing libraries mentioned above are installed properly if you would like to use GPU. Follow the guide at https://www.tensorflow.org/install/gpu for how to download and setup the required libraries for your platform.\n",
      "Skipping registering GPU devices...\n"
     ]
    },
    {
     "name": "stdout",
     "output_type": "stream",
     "text": [
      "Loading network weights from 'weights_best.h5'.\n",
      "Loading thresholds from 'thresholds.json'.\n",
      "Using default values: prob_thresh=0.479071, nms_thresh=0.3.\n",
      "(7686, 7695)\n",
      "normalize image\n",
      "predict instance\n"
     ]
    },
    {
     "name": "stderr",
     "output_type": "stream",
     "text": [
      "100%|███████████████████████████████████████████| 16/16 [00:08<00:00,  1.90it/s]\n"
     ]
    },
    {
     "name": "stdout",
     "output_type": "stream",
     "text": [
      "label image\n",
      "expand image\n",
      "save output\n",
      "Found model '2D_versatile_fluo' for 'StarDist2D'.\n",
      "Loading network weights from 'weights_best.h5'.\n",
      "Loading thresholds from 'thresholds.json'.\n",
      "Using default values: prob_thresh=0.479071, nms_thresh=0.3.\n",
      "(7687, 7691)\n",
      "normalize image\n",
      "predict instance\n"
     ]
    },
    {
     "name": "stderr",
     "output_type": "stream",
     "text": [
      "100%|███████████████████████████████████████████| 16/16 [00:08<00:00,  1.93it/s]\n"
     ]
    },
    {
     "name": "stdout",
     "output_type": "stream",
     "text": [
      "label image\n",
      "expand image\n",
      "save output\n"
     ]
    }
   ],
   "source": [
    "for sample in samples: \n",
    "    ISS_postprocessing.segmentation.stardist_segmentation(image_path = sample + '/preprocessing/stitched/Round0_4.tif', \n",
    "                                                      output_path = sample, \n",
    "                                                      model_name = '2D_versatile_fluo',\n",
    "                                                      expand_cells = True, \n",
    "                                                      n_tiles = (4,4), \n",
    "                                                      expanded_distance = 20,)"
   ]
  },
  {
   "cell_type": "code",
   "execution_count": null,
   "id": "dae954f5-f91e-4683-baec-ce55af7138e1",
   "metadata": {},
   "outputs": [],
   "source": []
  },
  {
   "cell_type": "code",
   "execution_count": null,
   "id": "ce69cb9d-007a-4c0d-a001-03dfd3ffa01f",
   "metadata": {},
   "outputs": [],
   "source": []
  }
 ],
 "metadata": {
  "kernelspec": {
   "display_name": "ISS_postprocessing",
   "language": "python",
   "name": "iss_postprocessing"
  },
  "language_info": {
   "codemirror_mode": {
    "name": "ipython",
    "version": 3
   },
   "file_extension": ".py",
   "mimetype": "text/x-python",
   "name": "python",
   "nbconvert_exporter": "python",
   "pygments_lexer": "ipython3",
   "version": "3.11.0"
  }
 },
 "nbformat": 4,
 "nbformat_minor": 5
}
