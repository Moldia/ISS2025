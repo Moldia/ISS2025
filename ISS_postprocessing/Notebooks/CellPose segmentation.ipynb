{
 "cells": [
  {
   "cell_type": "markdown",
   "id": "dc47df2d-c751-47cd-b468-ada590f735af",
   "metadata": {},
   "source": [
    "# Cell segmentation using Cellpose"
   ]
  },
  {
   "cell_type": "markdown",
   "id": "e04d52bb-7e72-4ae6-b1da-7eed9b1ae706",
   "metadata": {},
   "source": [
    "## Import packages\n",
    "We import the necessary packages. `ISS_postprocessing` includes some modules requiring a functional and properly installed CUDA-compatible GPU. They will work but they will be considerably slower on CPU."
   ]
  },
  {
   "cell_type": "code",
   "execution_count": 23,
   "id": "c86661e2-ff38-496a-8fe0-0a5c2119062f",
   "metadata": {},
   "outputs": [],
   "source": [
    "import ISS_postprocessing\n",
    "import numpy as np\n",
    "import matplotlib.pyplot as plt\n",
    "from skimage.segmentation import mark_boundaries\n",
    "import tifffile as tff\n",
    "from scipy.sparse import save_npz\n",
    "import os"
   ]
  },
  {
   "cell_type": "markdown",
   "id": "898b3f5f-53bd-41c6-92f9-1338d57dffa1",
   "metadata": {},
   "source": [
    "## Cell segmentation using Cellpose\n",
    "\n",
    "In this step we will first build a **segmentation mask** based on the DAPI signal, so the script will search for a DAPI file in the subfolders within each sample folder. The file that is typically loaded is at `/sample/preprocessing/stitched/Round0_4.tif`, so it's the stitched DAPI image corresponding to the first imaging cycle. Please change the channel number if DAPI is not in the indicated channel.\n",
    "\n",
    "The `ISS_postprocessing.segmentation` implements several method for cell segmentation, based on `stardist` or `cellpose`. Custom segmentation using other methods can also be performed, but need to be done externally to this notebook.\n",
    "\n",
    "In this specific tutorial, `cellpose` is implemented.\n",
    "\n",
    "In the following function the following parameters can be speficied:\n",
    "\n",
    "`imagepath`: the path to the DAPI image as a string. In this example case it's automatically built within the loop\n",
    "\n",
    "`diam` = optional argument, specifies a reference object parameter\n",
    "\n",
    "`expanded_distance` = defaults to 20. It determines how much each nucleus is expanded (in pixels)"
   ]
  },
  {
   "cell_type": "markdown",
   "id": "70e0a408-e006-48a7-9c87-f0eb75f2961b",
   "metadata": {},
   "source": [
    "In the following code block you need to add the paths to each one of the samples you want to post-process. Note that you can post-process multiple samples in one go, but they will all be analysed in the same way. This is normally OK, but there might be exceptions in which you want to treat your samples differently for some reason.\n"
   ]
  },
  {
   "cell_type": "code",
   "execution_count": 15,
   "id": "d2189834-936d-49ab-b1c3-e9bdae306965",
   "metadata": {},
   "outputs": [],
   "source": [
    "samples = ['/home/marco/Downloads/media/marco/output_folder_natsort']"
   ]
  },
  {
   "cell_type": "code",
   "execution_count": 22,
   "id": "06739a4d-ef07-4288-8b9a-f9bc5c91e45e",
   "metadata": {},
   "outputs": [],
   "source": [
    "for sample in samples:\n",
    "    imagepath = os.path.join(sample, 'preprocessing/stitched/Round0_4.tif')\n",
    "    image=tff.imread(imagepath)\n",
    "    expanded_mask, coo = ISS_postprocessing.segmentation.cell_pose_segmentation_to_coo(image, diam=None, expanded_distance=20)\n",
    "    save_npz(os.path.join(sample, 'cellpose_expanded.npz'), coo, compressed=True)"
   ]
  },
  {
   "cell_type": "code",
   "execution_count": null,
   "id": "a757c9eb-eca1-482d-8d52-aa90809c2020",
   "metadata": {},
   "outputs": [],
   "source": []
  }
 ],
 "metadata": {
  "kernelspec": {
   "display_name": "ISS_postprocessing",
   "language": "python",
   "name": "iss_postprocessing"
  },
  "language_info": {
   "codemirror_mode": {
    "name": "ipython",
    "version": 3
   },
   "file_extension": ".py",
   "mimetype": "text/x-python",
   "name": "python",
   "nbconvert_exporter": "python",
   "pygments_lexer": "ipython3",
   "version": "3.11.0"
  }
 },
 "nbformat": 4,
 "nbformat_minor": 5
}
