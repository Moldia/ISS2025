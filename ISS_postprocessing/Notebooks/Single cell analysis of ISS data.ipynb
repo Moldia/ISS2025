{
 "cells": [
  {
   "cell_type": "markdown",
   "id": "8be4a588-3900-43f4-8f04-7709f40ed769",
   "metadata": {},
   "source": [
    "# How to do single-cell analysis of ISS data:\n",
    "\n",
    "This notebook guides you through the different steps that will eventually allow you to analyse ISS data at the single cell level.\n",
    "\n",
    "To complete this tutorial you should have completed the previous steps, and you will need the following ingredients.\n",
    "\n",
    "1. Your decoded data, in the standard decoded format as we have generated from the `ISS_decoding` notebook.\n",
    "2. A segmentation mask in .nzp format produced with either `Stardist`, `Cellpose` (see our tutorials) or whichever method you prefer.\n",
    "3. time, patience, and some knowledge of single-cell analysis.\n",
    "\n",
    "\n",
    "The analysis is based on Scanpy (documentation in  https://scanpy.readthedocs.io/en/stable/index.html) and Squidpy (documentation in https://squidpy.readthedocs.io/en/stable/)\n"
   ]
  },
  {
   "cell_type": "markdown",
   "id": "3f2c899b-380c-47ee-85d8-131affcf18fe",
   "metadata": {},
   "source": [
    "## Import packages\n",
    "We import the necessary packages. `ISS_postprocessing` includes some modules requiring a functional and properly installed CUDA-compatible GPU. They will work but they might be slower on CPU."
   ]
  },
  {
   "cell_type": "code",
   "execution_count": null,
   "id": "3cdb6d1b-0ecb-4b58-afab-fe9ca6cfe05f",
   "metadata": {},
   "outputs": [],
   "source": [
    "import ISS_postprocessing\n",
    "import scanpy as sc\n",
    "import numpy as np\n",
    "import matplotlib.pyplot as plt"
   ]
  },
  {
   "cell_type": "markdown",
   "id": "8cd08c72-6077-48c3-b5f0-d645abf257ea",
   "metadata": {},
   "source": [
    "In the following code block you need to add the paths to each one of the samples you want to post-process. Note that you can post-process multiple samples in one go, but they will all be analysed in the same way. This is normally OK, but there might be exceptions in which you want to treat your samples differently for some reason.\n",
    "\n"
   ]
  },
  {
   "cell_type": "code",
   "execution_count": null,
   "id": "6f18e297-967b-4153-96b0-05bbc5007d7e",
   "metadata": {},
   "outputs": [],
   "source": [
    "samples = ['/home/marco/Downloads/media/marco/mountstuff/rfl_test/']"
   ]
  },
  {
   "cell_type": "markdown",
   "id": "a5071cd4-bc4e-49ae-b354-69f301962991",
   "metadata": {},
   "source": [
    "## Integrate the ISS data on the segmentation mask and create AnnData objects\n",
    "\n",
    "In this step you are taking your decoded spots and assign each spot a specific cell based on its x,y positions, using a pre-computed segmentation mask to determine the cell boundaries. \n",
    "\n",
    "Then the code implements some filtering and conversion steps, and save the object as an `Annotated_Data`.\n",
    "\n",
    "Let's look at the variables:\n",
    "\n",
    "\n",
    "`spots_file` = the location of the decoded spots .csv file \n",
    "\n",
    "`segmentation_mask`= the location to the npz expanded segmentation mask\n",
    "\n",
    "`output_file` = the location where the hda5 AnnData file will be saved for each sample\n",
    "\n",
    "`filter_data`= A boolean specifying whether you want to filter the ISS data on a quality criterion (default=True) \n",
    "\n",
    "`metric` = defines **which parameter you want to use for filtering the ISS data** I suggest using the `quality_minimum`\n",
    "\n",
    "`write_h5ad` = A boolean specifying if the AnnData needs to be saved as h5ad (default==True)\n",
    "\n",
    "`value`= this is a value specifying **which value is used for filterin** (if quality_minimum was chosen as metric, I'd suggest 0.4-0.5)\n",
    "\n",
    "`convert_coords` = This converts the coordinates from pixel to nm, and whether it's needed or not will depend on your settings in the `ISS_decoding` notebook. default is True \n",
    "\n",
    "`conversion_factor` = this specifies the XY pixel size.\n",
    "\n",
    "These last 2 steps are to ensure your decoded data actually match the DAPI image. If you don't do these steps right, your segmentation will be completely off and your data will not make any sense."
   ]
  },
  {
   "cell_type": "code",
   "execution_count": null,
   "id": "3008bbaa-c511-4888-a920-c82fcb185b3d",
   "metadata": {},
   "outputs": [],
   "source": [
    "for sample_path in samples:  \n",
    "        ad = ISS_postprocessing.annotated_objects.create_anndata_obj(spots_file = sample_path+'/decoded_dense/decoded.csv', \n",
    "            segmentation_mask = sample_path+'cellpose_expanded.npz',#'cell_segmentation/cellpose_segmentation_expanded_2.npz' \n",
    "            output_file = sample_path+'/decoded_dense/anndata_cellpose.h5ad',\n",
    "            filter_data=True, \n",
    "            metric = 'quality_minimum', \n",
    "            write_h5ad = True,\n",
    "            value=  0.4,\n",
    "            convert_coords = False, \n",
    "            conversion_factor = 0.1625)"
   ]
  },
  {
   "cell_type": "markdown",
   "id": "39877ba1-f084-4b3d-978d-20e522f26cd0",
   "metadata": {},
   "source": [
    "## Concatenation of multiple AnnData objects for joint analysis.\n",
    "\n",
    "When working with multiple samples, you might want to concatenate all the respective  AnnData objects into one single file. This allows you to treat all of your sections as a single dataset. The code block down here formats the data in a way that `.obs['sample_id']` will contain data about a specific section."
   ]
  },
  {
   "cell_type": "code",
   "execution_count": null,
   "id": "49da335e-9436-4beb-91bf-5da80e21b72a",
   "metadata": {},
   "outputs": [],
   "source": [
    "ad =  ISS_postprocessing.annotated_objects.concat_anndata(sample_anndata_list = samples, \n",
    "                  anndata_name = 'anndata_stardist.h5ad'\n",
    "                  )\n",
    "ad.obs['sample_id'] = ad.obs['sample_id'].str.split('/', expand = True)[5] "
   ]
  },
  {
   "cell_type": "markdown",
   "id": "a63637c4",
   "metadata": {},
   "source": [
    "In the following step some useful metrics about the experiment are calculated. "
   ]
  },
  {
   "cell_type": "code",
   "execution_count": null,
   "id": "e0368c1c-ffef-4e07-9f44-6b87dd7776d0",
   "metadata": {},
   "outputs": [],
   "source": [
    "#import scanpy as sc\n",
    "#ad=sc.read('/home/marco/Downloads/media/marco/mountstuff/rfl_test/decoded_dense/anndata_stardist.h5ad')"
   ]
  },
  {
   "cell_type": "code",
   "execution_count": null,
   "id": "6bc4e729",
   "metadata": {},
   "outputs": [],
   "source": [
    "sc.pp.calculate_qc_metrics(ad, percent_top=None, log1p=False, inplace=True)"
   ]
  },
  {
   "cell_type": "markdown",
   "id": "a4321009",
   "metadata": {},
   "source": [
    "The following block of code allows us to visualize the distribution of `total_counts` in the cells. This will allow you to determine a few things, and understand your data a bit.\n",
    "\n",
    "1. cells with a very low `total_counts` will be useless for clustering (especially 0s) so you might want to filter them out\n",
    "\n",
    "2. cells with unusually high `total_counts` are often arising because of segmentation artifacts. If most of the cells have around 30 counts, cells with 100s of counts are somewhat suspicious."
   ]
  },
  {
   "cell_type": "code",
   "execution_count": null,
   "id": "d6147d7e",
   "metadata": {},
   "outputs": [],
   "source": [
    "import matplotlib.pyplot as plt\n",
    "ad.obs['total_counts'].plot(kind='box')\n",
    "plt.title('Boxplot of total_counts')\n",
    "plt.show()"
   ]
  },
  {
   "cell_type": "markdown",
   "id": "b095c33c",
   "metadata": {},
   "source": [
    "Similar considerations apply also to this other metrics, the `n_genes_by_counts` measure. This tells us **how many unique genes are detected in each cell**. Cells that express only 1 or very few genes are usually suspicious, and we might want to filter them out.\n",
    "\n",
    "**All of these considerations of course will depend on the number of genes you probe for in the ISS panel and also the efficiency of detection, etc...**\n",
    "The boxplots above are meant to visually inspect these metrics and aid in making a decision about meaningful filtering threshold in the next step."
   ]
  },
  {
   "cell_type": "code",
   "execution_count": null,
   "id": "268b1562",
   "metadata": {},
   "outputs": [],
   "source": [
    "import matplotlib.pyplot as plt\n",
    "ad.obs['n_genes_by_counts'].plot(kind='box')\n",
    "plt.title('Boxplot of n_genes_by_counts')\n",
    "plt.show()"
   ]
  },
  {
   "cell_type": "markdown",
   "id": "dde8ba7f-c46b-4c90-9725-20bf5ddb25ca",
   "metadata": {},
   "source": [
    "## Set filtering thresholds and discard uninformative cells\n",
    "\n",
    "By modifying the line below we get to choose values to filter the cells based on the metric discussed before:\n",
    "\n",
    "In the example here, we'll keep only the cells with more than 5 spots, coming from at least 2 different genes. "
   ]
  },
  {
   "cell_type": "code",
   "execution_count": null,
   "id": "83cc8cf3-7382-4b57-b8a6-a3fba7e844b5",
   "metadata": {},
   "outputs": [],
   "source": [
    "# Step 1: Convert cell index to string\n",
    "ad.obs_names = ad.obs_names.astype(str)\n",
    "# Step 2: Establish filtering criteria\n",
    "mask = (ad.obs['total_counts'] > 5) & (ad.obs['n_genes_by_counts'] > 2)\n",
    "# Step 3: Establish filtering criteria\n",
    "ad = ad[mask].copy()\n"
   ]
  },
  {
   "cell_type": "code",
   "execution_count": null,
   "id": "036e3e23-de8f-4b0a-a971-ada78f29d1cf",
   "metadata": {},
   "outputs": [],
   "source": [
    "len(ad)"
   ]
  },
  {
   "cell_type": "markdown",
   "id": "cac8e52a-ad4c-4eb8-9a3c-ef7e40670e60",
   "metadata": {},
   "source": [
    "## Normalization and transformation"
   ]
  },
  {
   "cell_type": "markdown",
   "id": "ce9053cd-0534-42d0-884d-d4a377fa0472",
   "metadata": {},
   "source": [
    "Now your data is stored in the `ad` object as raw data. \n",
    "\n",
    "We now copy the raw data into `ad.raw`, and store it for later use if needed. \n",
    "\n",
    "To the data in `ad` we apply normalization and log-transformation to minimize the effect of outliers. \n",
    "\n",
    "We also scale the data to give the same importance to all genes in clustering.\n",
    "\n",
    "There's a lot of debate about which normalization method one should use for ISS data, and whether one would need to scale at all, so take all of this with a grain of salt.\n",
    "\n"
   ]
  },
  {
   "cell_type": "code",
   "execution_count": null,
   "id": "ff3e195a-6355-45e0-8d5f-232ca81aebf9",
   "metadata": {},
   "outputs": [],
   "source": [
    "ad.layers[\"raw\"] = ad.X.copy()\n",
    "sc.pp.normalize_total(ad)\n",
    "sc.pp.log1p(ad)"
   ]
  },
  {
   "cell_type": "markdown",
   "id": "a29228c2",
   "metadata": {},
   "source": [
    "Here we run a standard PCA and proceed with the analysis as in scRNAseq workflows."
   ]
  },
  {
   "cell_type": "code",
   "execution_count": null,
   "id": "6caf666f-e90d-41f2-871c-7d5ee2ca8dac",
   "metadata": {},
   "outputs": [],
   "source": [
    "sc.tl.pca(ad, svd_solver='arpack')\n",
    "plt.rcParams['figure.facecolor'] = 'white'\n",
    "sc.pl.pca_variance_ratio(ad, log=True)"
   ]
  },
  {
   "cell_type": "markdown",
   "id": "18bc6815",
   "metadata": {},
   "source": [
    "By changing the `n_neighbors`, `n_pcs` and `min_dist` in the code below, you can change the clustering properties. Refer to the `scanpy` manual for more information."
   ]
  },
  {
   "cell_type": "code",
   "execution_count": null,
   "id": "cbd00aa8-b0c0-4faf-87e1-b14d08c05339",
   "metadata": {},
   "outputs": [],
   "source": [
    "sc.pp.neighbors(ad, n_neighbors=20, n_pcs=40)\n",
    "sc.tl.umap(ad,min_dist=0.005) #0.005"
   ]
  },
  {
   "cell_type": "markdown",
   "id": "cf43a6aa",
   "metadata": {},
   "source": [
    "Here we choose 2 resolutions to visualize the cells on the UMAP and plot the results."
   ]
  },
  {
   "cell_type": "code",
   "execution_count": null,
   "id": "797e95f7-5cc0-4fa6-8374-73a4ac59a3aa",
   "metadata": {},
   "outputs": [],
   "source": [
    "for i in [1, 2]:\n",
    "    if \"norm_leiden_\"+str(i) in ad.obs.columns:\n",
    "        plt.rcdefaults()\n",
    "        with plt.rc_context({'figure.figsize': (15, 10)}):\n",
    "            sc.pl.umap(ad, color = (\"norm_leiden_\"+str(i)),s=20,add_outline=False,legend_loc='on data',legend_fontsize=20,legend_fontoutline=2,alpha = 1)\n",
    "    else: \n",
    "        print('clustering @ resolution ' + str(i))\n",
    "        sc.tl.leiden(ad, resolution =i, key_added = (\"norm_leiden_\"+str(i)))\n",
    "        plt.rcdefaults()\n",
    "        with plt.rc_context({'figure.figsize': (15, 10)}):\n",
    "            sc.pl.umap(ad, color = (\"norm_leiden_\"+str(i)),s=20,add_outline=False,legend_loc='on data',legend_fontsize=20,legend_fontoutline=2)"
   ]
  },
  {
   "cell_type": "markdown",
   "id": "d8d26c0c-a088-4729-a4fd-4ba175e533ef",
   "metadata": {},
   "source": [
    "\n",
    "\n",
    "This block of code extracts the positions of the cells for plotting.\n"
   ]
  },
  {
   "cell_type": "code",
   "execution_count": null,
   "id": "41e58b2a-6e48-4445-9a91-b119c5e53a26",
   "metadata": {},
   "outputs": [],
   "source": [
    "spatial = np.array(ad.obs[['x','y']].astype('<f8'))\n",
    "ad.obsm['spatial'] = spatial\n",
    "\n",
    "ad.obsm['xy_loc'] = spatial"
   ]
  },
  {
   "cell_type": "markdown",
   "id": "0704028d",
   "metadata": {},
   "source": [
    "And finally here we can plot the **spatial distribution of the different clusters** in one go."
   ]
  },
  {
   "cell_type": "code",
   "execution_count": null,
   "id": "ccedcc33-e57b-4106-a937-82401112612b",
   "metadata": {},
   "outputs": [],
   "source": [
    "cluster = 'norm_leiden_2'\n",
    "for sample in ad.obs['sample_id'].unique():\n",
    "    print(sample)\n",
    "    ad_int = ad[ad.obs['sample_id'] == sample]    \n",
    "    with plt.rc_context({'figure.figsize': (25, 17.5)}):\n",
    "        sc.pl.spatial(ad_int,color=cluster ,spot_size=30)\n",
    "\n",
    "\n"
   ]
  },
  {
   "cell_type": "code",
   "execution_count": null,
   "id": "da103580-495a-41fc-8318-0640841e62e1",
   "metadata": {},
   "outputs": [],
   "source": [
    "cluster = 'norm_leiden_1'\n",
    "ad_int = ad   \n",
    "with plt.rc_context({'figure.figsize': (25, 17.5)}):\n",
    "    sc.pl.spatial(ad_int,color=cluster ,spot_size=30)"
   ]
  },
  {
   "cell_type": "markdown",
   "id": "33aa0e8e",
   "metadata": {},
   "source": [
    "## Which genes are good markers of your ISS clusters?\n",
    "By running the following code blocks, you can see which genes characterise each one of the ISS clusters inferred above, and generate different plots showing essentially the same information in less or more condensed format."
   ]
  },
  {
   "cell_type": "code",
   "execution_count": null,
   "id": "9238b146-751a-431a-ac14-c2a43ca5b3e4",
   "metadata": {},
   "outputs": [],
   "source": [
    "sc.tl.rank_genes_groups(ad, cluster, method='wilcoxon', key_added = cluster+ \"_wilcoxon\")\n",
    "sc.pl.rank_genes_groups(ad, n_genes=15, sharey=False, key=cluster+ \"_wilcoxon\")"
   ]
  },
  {
   "cell_type": "code",
   "execution_count": null,
   "id": "2b3796b2-a2af-4147-b6bb-7e4ffde88b36",
   "metadata": {},
   "outputs": [],
   "source": [
    "plt.rcdefaults()\n",
    "sc.pl.rank_genes_groups_matrixplot(ad, n_genes=3, key=cluster+ \"_wilcoxon\", groupby=cluster, cmap = 'viridis', )"
   ]
  },
  {
   "cell_type": "markdown",
   "id": "7a1e982e-c301-4948-9509-1a6ed53206d4",
   "metadata": {},
   "source": [
    "## The following code allows to to save an updated version of the anndata object including all the calculations above.\n",
    "\n",
    "By running the following code, you are saving an anndata files that includes:\n",
    "\n",
    "- UMAP representations\n",
    "- Differentially Expressed Genes by clusters\n",
    "- Spatial coordinates of the cells"
   ]
  },
  {
   "cell_type": "code",
   "execution_count": null,
   "id": "2b427124-f95a-4f0a-af2c-5de763b26c89",
   "metadata": {},
   "outputs": [],
   "source": [
    "ad.write(\"/home/marco/Downloads/media/marco/mountstuff/rfl_test/decoded_dense/anndata_cellpose.h5ad\")"
   ]
  },
  {
   "cell_type": "code",
   "execution_count": null,
   "id": "ca3c1f99-fe7e-4ace-b25e-946db420635e",
   "metadata": {},
   "outputs": [],
   "source": []
  },
  {
   "cell_type": "markdown",
   "id": "14b2e384",
   "metadata": {},
   "source": [
    "## The following code allows to generate figures for each cluster individually.\n",
    "\n",
    "By running the following code, you plot each cluster, one by one, for all the samples in a single figure, together with a short list of unique markers.\n",
    "\n"
   ]
  },
  {
   "cell_type": "code",
   "execution_count": null,
   "id": "d23f08e2-03a9-4039-b6ef-78e196511947",
   "metadata": {},
   "outputs": [],
   "source": [
    "ad.obs['project'] = 'sc'"
   ]
  },
  {
   "cell_type": "code",
   "execution_count": null,
   "id": "908cfd07-4a6d-4155-ab1e-5ab278c40297",
   "metadata": {},
   "outputs": [],
   "source": [
    "for cluster_ in sorted(ad.obs[cluster].value_counts().head(5).index.astype(int)):\n",
    "    print(cluster_)\n",
    "\n",
    "    \n",
    "    genes = list(sc.get.rank_genes_groups_df(ad,group=str(cluster_), key='wilcoxon')['names'].head(4))\n",
    "    genes.insert(0, cluster)\n",
    "    genes.insert(1, 'sample_id')\n",
    "    plt.rcdefaults()\n",
    "    sc.pl.umap(ad, color = genes, cmap = 'turbo', ncols = 3, legend_loc='on data',legend_fontsize=10,legend_fontoutline=2)\n",
    "    \n",
    "    ISS_postprocessing.annotated_objects.plot_specific_cluster(ad,\n",
    "                    clusters_to_map = cluster,\n",
    "                    cluster = str(cluster_),\n",
    "                    broad_cluster = 'project',\n",
    "                    key='wilcoxon',\n",
    "                    size=0.5,\n",
    "                    number_of_marker_genes=10,\n",
    "                    sample_id_column='sample_id',\n",
    "                    dim_subplots=[4, 4],)\n",
    "    plt.show()"
   ]
  }
 ],
 "metadata": {
  "kernelspec": {
   "display_name": "ISS_postprocessing",
   "language": "python",
   "name": "iss_postprocessing"
  },
  "language_info": {
   "codemirror_mode": {
    "name": "ipython",
    "version": 3
   },
   "file_extension": ".py",
   "mimetype": "text/x-python",
   "name": "python",
   "nbconvert_exporter": "python",
   "pygments_lexer": "ipython3",
   "version": "3.11.0"
  }
 },
 "nbformat": 4,
 "nbformat_minor": 5
}
