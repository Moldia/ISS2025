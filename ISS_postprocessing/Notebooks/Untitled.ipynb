{
 "cells": [
  {
   "cell_type": "code",
   "execution_count": 2,
   "id": "c86661e2-ff38-496a-8fe0-0a5c2119062f",
   "metadata": {},
   "outputs": [],
   "source": [
    "import ISS_postprocessing\n",
    "import scanpy as sc\n",
    "import numpy as np\n",
    "import matplotlib.pyplot as plt\n",
    "from skimage.segmentation import mark_boundaries"
   ]
  },
  {
   "cell_type": "code",
   "execution_count": null,
   "id": "d2189834-936d-49ab-b1c3-e9bdae306965",
   "metadata": {},
   "outputs": [],
   "source": []
  },
  {
   "cell_type": "code",
   "execution_count": null,
   "id": "6d7a4dc0-a94b-4ea1-a33e-2661b5b422fd",
   "metadata": {},
   "outputs": [],
   "source": [
    "expanded_mask, coo = ISS_postprocessing.segmentation.cell_pose_segemenation_to_coo("
   ]
  }
 ],
 "metadata": {
  "kernelspec": {
   "display_name": "ISS_postprocessing",
   "language": "python",
   "name": "iss_postprocessing"
  },
  "language_info": {
   "codemirror_mode": {
    "name": "ipython",
    "version": 3
   },
   "file_extension": ".py",
   "mimetype": "text/x-python",
   "name": "python",
   "nbconvert_exporter": "python",
   "pygments_lexer": "ipython3",
   "version": "3.11.0"
  }
 },
 "nbformat": 4,
 "nbformat_minor": 5
}
