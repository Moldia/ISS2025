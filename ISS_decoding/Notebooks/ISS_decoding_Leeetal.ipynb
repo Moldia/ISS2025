{
 "cells": [
  {
   "cell_type": "markdown",
   "metadata": {},
   "source": [
    "# ISS_decoding of preprocessed files"
   ]
  },
  {
   "cell_type": "markdown",
   "metadata": {},
   "source": [
    "This notebook guides you through the steps necessary for the decoding of ISS image data that have been preprocessed using our `ISS_preprocessing` module.\n",
    "\n",
    "In this step, we make use of the starfish library to extract the information contained in our images. starfish is a Python library for processing images of image-based spatial transcriptomics. You can read more about it here: https://spacetx-starfish.readthedocs.io/en/latest/\n",
    "\n",
    "In the following steps, we first format our images to a starfish-compatible format (SpaceTx), and provide some information about our experiment design. \n",
    "Once this is completed, we can proceed to the actual decoding of the data from the SpaceTx images.\n",
    "Format images.\n",
    "\n",
    "\n",
    "For this notebook to work correctly, you should have a specific folder for each one of the sections you want to process, and each folder should contain the following subfolders tree: `/preprocessing/ReslicedTiles`. Under `/preprocessing` you might still have other subfolders such as `/mipped/`, `/OME_tiffs/` and `/stitched/`, but these are irrelevant at this stage, and will not exist in the output folder from `ISS_CARE`, if that's the choice you've made for denoising the images. \n",
    "\n",
    "The important thing is that you have a `/preprocessing/ReslicedTiles/`, because the resliced images are the starting point of the preprocessing"
   ]
  },
  {
   "cell_type": "markdown",
   "metadata": {},
   "source": [
    "## We start by importing the necessary modules"
   ]
  },
  {
   "cell_type": "code",
   "execution_count": 2,
   "metadata": {},
   "outputs": [],
   "source": [
    "import ISS_decoding.SpaceTx_format as STX\n",
    "import ISS_decoding.decoding as DEC\n",
    "import ISS_decoding.qc_metrics as QC\n",
    "import pandas as pd"
   ]
  },
  {
   "cell_type": "markdown",
   "metadata": {},
   "source": [
    "## Specify the path where your preprocessed sections are saved\n",
    "\n",
    "Here we input the path to each one of the samples as an element of a list. Each element needs to contain the full path to the sample folder. We consider as \"sample folder\" the parent folder to `/preprocessing/`.\n"
   ]
  },
  {
   "cell_type": "code",
   "execution_count": 1,
   "metadata": {},
   "outputs": [],
   "source": [
    "samples=['/home/marco/Downloads/media/marco/mountstuff/rfl_test/']\n",
    "\n",
    "\n",
    "    "
   ]
  },
  {
   "cell_type": "markdown",
   "metadata": {},
   "source": [
    "## Format the images to SpaceTx format\n",
    "\n",
    "The first thing to do before we can start the actual decoding is to transform our images (the resliced tiles) to the SpaceTx format.\n",
    "\n",
    "To read more about the SpaceTx format, read the following: https://github.com/spacetx/sptx-format\n",
    "\n",
    "In order to complete this step, you need to input the path to a `codebook_csv`. This is a file that associates a unique color sequence across ISS cycles to each gene. This file is a comma separated file with no header, in which the first column contains the gene name, while  columns 2 to 6 (in case of a 6 cycle experiment) contain numbers representing the expected positive DO_decorator in each cycle for that gene. \n",
    "\n",
    "Let's look at the variables are taken by the function:\n",
    "\n",
    "`filenames` = type: `list`. This list contains the names of the subfolders in the ReslicedTiles folder. Depending on how many cycles you have in your experiment, you will have to shorten it. For example, if you only have 4 cycles, you should remove: 'Base_5_stitched','Base_6_stitched'. \n",
    "\n",
    "`tile_dim` = type: `int`. The dimensions of your ReslicedTiles. Default = 2000. Make sure this matches the `tile_dim` size you used in the `tile_stitched_images` function in the `ISS_preprocessing` module.\n",
    "\n",
    "`pixelscale`  = type: `int`. This is the size of the pixels in microns. This is needed if you want the coordinates of the spot to be output in microns, and will depend on your microscope settings. Set to 1 if you want the data to be on a coordinate scale. Default = 0.1625.\n",
    "\n",
    "`channels` = type: `list`. The channels, in the order they were acquired in the microscope. Default = [\"AF750\", \"Cy5\", \"Cy3\", \"AF488\", \"DAPI\"]\n",
    "\n",
    "`DO_decorators` =  type: `list` **This point can be tricky to understant.** This shows how you associate the numbers in the codebook (ie 1,2,3,4) to a specific list of colors (DO_decorator) . In our lab, 1,2,3,4 correspond to  [\"AF750\", \"488\", \"Cy3\",  \"Cy5\"]. Default =  [\"AF750\", \"488\", \"cy3\",  \"Cy5\"]. Users who will follow our barcode design and readout schemes should not change this.\n",
    "\n",
    "`folder_spacetx`  = this is the name of the folder containing where the SpaceTx files will be saved. Default = SpaceTX_format. \n",
    "\n",
    "`nuclei_channel`  = type: `int`. This is the number of the channel that corresponds to your nuclei stained image. This is 1-indexed and our default = 5. \n",
    "\n",
    "\n",
    "\n",
    "\n",
    "\n",
    "\n"
   ]
  },
  {
   "cell_type": "code",
   "execution_count": 13,
   "metadata": {},
   "outputs": [],
   "source": [
    "\n",
    "for sample in samples:\n",
    "    STX.make_spacetx_format(path = sample,\n",
    "    codebook_csv = '/home/marco/Downloads/media/marco/mountstuff/codebook_organoid.csv',\n",
    "    filenames=['Base_1_stitched', 'Base_2_stitched', \n",
    "               'Base_3_stitched', 'Base_4_stitched'],\n",
    "    tile_dim=4000,\n",
    "    pixelscale=1,\n",
    "    channels=[\"AF750\", \"Cy5\", \"Cy3\", \"AF488\", \"DAPI\", \"At425\"],\n",
    "    DO_decorators=[\"AF750\", \"AF488\", \"Cy3\", \"Cy5\", \"At425\"],\n",
    "    folder_spacetx='SpaceTX_format_rfl',\n",
    "    nuclei_channel=4,\n",
    "    )\n"
   ]
  },
  {
   "cell_type": "markdown",
   "metadata": {},
   "source": [
    "## Decode the SpaceTx formatted data\n",
    "\n",
    "\n",
    "At this stage, after running the above code block, you should have successfully transformed your preprocessed resliced tiles into the SpaceTx format. Each `/preprocessing/SpaceTX_format/` should now contain a file called `experiment.json`\n",
    "\n",
    "To decode the images, we now need to use the `process_experiment` function.\n",
    "\n",
    "\n",
    "In brief, the function will take each individual SpaceTx image file, looks for the same spot across cycles, deduce a colour sequence for each spot across the different cycles, and match the extracted sequence to the `codebook` we provided previously. \n",
    "\n",
    "In detail, this process is actually a bit more complex and several steps happen within the `process_experiment` function. We suggest you to have a look at the relevant part of the manual for exhaustive explanation of what happens under the hood. \n",
    "\n",
    "### Changing decoding parameters\n",
    "\n",
    "Modifying some of  the input parameters of the `process_experiment` function, it is possible to explore a range of settings to optimize the decoding for every specific experiment, if necessary.\n",
    "\n",
    "`Exp_path`: here you have to specify the path to the `experiment.json` described above. This is normally inside the `SpaceTX_format` subfolder.\n",
    "\n",
    "`Output`: This is the output folder, where the decoded data will be deposited. We recommend that this path points to a new empty folder, since the function generates and individual csv for every tile processed.\n",
    "\n",
    "`Register`: select `True` if you want to register/align your images and `False` if you don’t want to align your images. In principle, this should be already taken care of by the `ISS_preprocessing` module. Nevertheles, this step is also recommended, as sometimes small adjustments in the registration of images improve this step.\n",
    "\n",
    "`Register_dapi`: specify `True` if you want to align your images based on Dapi/ nuclear staining. If it’s specified as `False`, the alignment will be done based on a pseudoanchor(please read the glossary on the manual to know what this is). This parameter only is considered if the parameter `Register==True`.\n",
    "\n",
    "`Masking radius`: the radius of the top hat filter for spot detection. Depending on the size, it will “smoothen” your data to a different extent. The standard values go between 7 and 15. We recommend 7. Refer to the manual for further explanations.\n",
    "\n",
    "`Threshold`: Defines the minimum intensity that a spot should have in order to be detected. Decreasing the threshold increases the number of detected spots, but also increases the chance of background signal being counted as a spot. \n",
    "\n",
    "`Sigma vals`:  correspond to min_sigma, max_sigma, num_sigma. See https://spacetx-starfish.readthedocs.io/en/latest/api/spots/index.html#spot-finding. Our default values are set in a way that allow us to capture signals in our experimental settings, on both Leica and Zeiss and at both 20x and 40x magnifications.\n",
    "\n",
    "`Decode_mode`: two options are given: ‘PRMC’: per round max channel OR ‘MD’, metric distance. We suggest to use PRMC. More information on how the two methods differ are in the manual.\n",
    "\n",
    "`Normalization method`: ‘MH’ or ‘CPTZ’. These are two alternative image normalization methods. We normally advise to use 'MH' for ISS data. Please refer to the manual to understand the differences.\n",
    "\n",
    "However the above parameters are specified, the output decoded files will always be .csv files consisting essentially of the location (XY position) and identity (gene) of every spot decoded. \n"
   ]
  },
  {
   "cell_type": "code",
   "execution_count": 4,
   "metadata": {},
   "outputs": [
    {
     "name": "stdout",
     "output_type": "stream",
     "text": [
      "no FOVS done\n",
      "decoding fov_000\n",
      "getting images\n"
     ]
    },
    {
     "name": "stderr",
     "output_type": "stream",
     "text": [
      "100%|███████████████████████████████████████████████████████████████████████████████████████████████████████████████| 20/20 [00:00<00:00, 43.28it/s]\n"
     ]
    },
    {
     "name": "stdout",
     "output_type": "stream",
     "text": [
      "not registering images\n"
     ]
    },
    {
     "name": "stderr",
     "output_type": "stream",
     "text": [
      "100%|██████████████████████████████████████████████████████████████████████████████████████████████████████████████| 20/20 [00:00<00:00, 947.07it/s]\n"
     ]
    },
    {
     "name": "stdout",
     "output_type": "stream",
     "text": [
      "normalizing channel intensities\n"
     ]
    },
    {
     "ename": "TypeError",
     "evalue": "object of type 'NoneType' has no len()",
     "output_type": "error",
     "traceback": [
      "\u001b[31m---------------------------------------------------------------------------\u001b[39m",
      "\u001b[31mTypeError\u001b[39m                                 Traceback (most recent call last)",
      "\u001b[36mCell\u001b[39m\u001b[36m \u001b[39m\u001b[32mIn[4]\u001b[39m\u001b[32m, line 2\u001b[39m\n\u001b[32m      1\u001b[39m \u001b[38;5;28;01mfor\u001b[39;00m sample \u001b[38;5;129;01min\u001b[39;00m samples:\n\u001b[32m----> \u001b[39m\u001b[32m2\u001b[39m     \u001b[43mDEC\u001b[49m\u001b[43m.\u001b[49m\u001b[43mprocess_experiment\u001b[49m\u001b[43m(\u001b[49m\u001b[43mexp_path\u001b[49m\u001b[43m \u001b[49m\u001b[43m=\u001b[49m\u001b[43m \u001b[49m\u001b[43msample\u001b[49m\u001b[43m+\u001b[49m\u001b[33;43m'\u001b[39;49m\u001b[33;43m/SpaceTX_format_rfl/experiment.json\u001b[39;49m\u001b[33;43m'\u001b[39;49m\u001b[43m,\u001b[49m\u001b[43m \u001b[49m\n\u001b[32m      3\u001b[39m \u001b[43m    \u001b[49m\u001b[43moutput\u001b[49m\u001b[43m \u001b[49m\u001b[43m=\u001b[49m\u001b[43m \u001b[49m\u001b[43msample\u001b[49m\u001b[43m+\u001b[49m\u001b[33;43m'\u001b[39;49m\u001b[33;43m/decoded_dense/\u001b[39;49m\u001b[33;43m'\u001b[39;49m\u001b[43m,\u001b[49m\u001b[43m  \u001b[49m\n\u001b[32m      4\u001b[39m \u001b[43m    \u001b[49m\u001b[43mregister\u001b[49m\u001b[43m \u001b[49m\u001b[43m=\u001b[49m\u001b[43m \u001b[49m\u001b[38;5;28;43;01mFalse\u001b[39;49;00m\u001b[43m,\u001b[49m\n\u001b[32m      5\u001b[39m \u001b[43m    \u001b[49m\u001b[43mregister_dapi\u001b[49m\u001b[43m \u001b[49m\u001b[43m=\u001b[49m\u001b[43m \u001b[49m\u001b[38;5;28;43;01mFalse\u001b[39;49;00m\u001b[43m,\u001b[49m\n\u001b[32m      6\u001b[39m \u001b[43m    \u001b[49m\u001b[43mmasking_radius\u001b[49m\u001b[43m \u001b[49m\u001b[43m=\u001b[49m\u001b[43m \u001b[49m\u001b[32;43m7\u001b[39;49m\u001b[43m,\u001b[49m\u001b[43m \u001b[49m\n\u001b[32m      7\u001b[39m \u001b[43m    \u001b[49m\u001b[43mthreshold\u001b[49m\u001b[43m \u001b[49m\u001b[43m=\u001b[49m\u001b[43m \u001b[49m\u001b[32;43m0.002\u001b[39;49m\u001b[43m,\u001b[49m\u001b[43m \u001b[49m\n\u001b[32m      8\u001b[39m \u001b[43m    \u001b[49m\u001b[43msigma_vals\u001b[49m\u001b[43m \u001b[49m\u001b[43m=\u001b[49m\u001b[43m \u001b[49m\u001b[43m[\u001b[49m\u001b[32;43m1\u001b[39;49m\u001b[43m,\u001b[49m\u001b[43m \u001b[49m\u001b[32;43m10\u001b[39;49m\u001b[43m,\u001b[49m\u001b[43m \u001b[49m\u001b[32;43m30\u001b[39;49m\u001b[43m]\u001b[49m\u001b[43m,\u001b[49m\u001b[43m \u001b[49m\u001b[38;5;66;43;03m# min, max and number\u001b[39;49;00m\n\u001b[32m      9\u001b[39m \u001b[43m    \u001b[49m\u001b[43mdecode_mode\u001b[49m\u001b[43m \u001b[49m\u001b[43m=\u001b[49m\u001b[43m \u001b[49m\u001b[33;43m'\u001b[39;49m\u001b[33;43mPRMC\u001b[39;49m\u001b[33;43m'\u001b[39;49m\u001b[43m,\u001b[49m\n\u001b[32m     10\u001b[39m \u001b[43m    \u001b[49m\u001b[43mnormalization_method\u001b[49m\u001b[43m \u001b[49m\u001b[43m=\u001b[49m\u001b[43m \u001b[49m\u001b[33;43m'\u001b[39;49m\u001b[33;43mMH\u001b[39;49m\u001b[33;43m'\u001b[39;49m\u001b[43m,\u001b[49m\n\u001b[32m     11\u001b[39m \u001b[43m    \u001b[49m\u001b[43mdense\u001b[49m\u001b[43m=\u001b[49m\u001b[38;5;28;43;01mTrue\u001b[39;49;00m\n\u001b[32m     12\u001b[39m \u001b[43m            \u001b[49m\u001b[43m)\u001b[49m\n",
      "\u001b[36mFile \u001b[39m\u001b[32m~/miniforge3/envs/ISS_decoding/lib/python3.11/site-packages/ISS_decoding/decoding.py:331\u001b[39m, in \u001b[36mprocess_experiment\u001b[39m\u001b[34m(exp_path, output, register, register_dapi, masking_radius, threshold, sigma_vals, decode_mode, normalization_method, dense)\u001b[39m\n\u001b[32m    319\u001b[39m \u001b[38;5;28;01melse\u001b[39;00m:\n\u001b[32m    320\u001b[39m     decoded = ISS_pipeline(\n\u001b[32m    321\u001b[39m         experiment[i], \n\u001b[32m    322\u001b[39m         experiment.codebook, \n\u001b[32m   (...)\u001b[39m\u001b[32m    329\u001b[39m         channel_normalization=normalization_method\n\u001b[32m    330\u001b[39m     )\n\u001b[32m--> \u001b[39m\u001b[32m331\u001b[39m df = \u001b[43mQC_score_calc\u001b[49m\u001b[43m(\u001b[49m\u001b[43mdecoded\u001b[49m\u001b[43m)\u001b[49m\n\u001b[32m    332\u001b[39m \u001b[38;5;66;03m# Ensure proper file path concatenation\u001b[39;00m\n\u001b[32m    333\u001b[39m output_path = os.path.join(output, i + \u001b[33m'\u001b[39m\u001b[33m.csv\u001b[39m\u001b[33m'\u001b[39m)\n",
      "\u001b[36mFile \u001b[39m\u001b[32m~/miniforge3/envs/ISS_decoding/lib/python3.11/site-packages/ISS_decoding/decoding.py:227\u001b[39m, in \u001b[36mQC_score_calc\u001b[39m\u001b[34m(decoded)\u001b[39m\n\u001b[32m    224\u001b[39m     \u001b[38;5;28;01mreturn\u001b[39;00m second_val / max_val\n\u001b[32m    226\u001b[39m \u001b[38;5;66;03m# Loop over each image in decoded\u001b[39;00m\n\u001b[32m--> \u001b[39m\u001b[32m227\u001b[39m \u001b[38;5;28;01mfor\u001b[39;00m i \u001b[38;5;129;01min\u001b[39;00m \u001b[38;5;28mrange\u001b[39m(\u001b[38;5;28;43mlen\u001b[39;49m\u001b[43m(\u001b[49m\u001b[43mdecoded\u001b[49m\u001b[43m)\u001b[49m):\n\u001b[32m    228\u001b[39m     intensity_array_int = decoded[i] \n\u001b[32m    229\u001b[39m     quality_list = []\n",
      "\u001b[31mTypeError\u001b[39m: object of type 'NoneType' has no len()"
     ]
    }
   ],
   "source": [
    "for sample in samples:\n",
    "    DEC.process_experiment(exp_path = sample+'/SpaceTX_format_rfl/experiment.json', \n",
    "    output = sample+'/decoded_dense/',  \n",
    "    register = False,\n",
    "    register_dapi = False,\n",
    "    masking_radius = 7, \n",
    "    threshold = 0.002, \n",
    "    sigma_vals = [1, 10, 30], # min, max and number\n",
    "    decode_mode = 'PRMC',\n",
    "    normalization_method = 'MH',\n",
    "    dense=True\n",
    "            )\n",
    "    \n"
   ]
  },
  {
   "cell_type": "markdown",
   "metadata": {},
   "source": [
    "## Merging the decoded data.\n",
    "\n",
    "As mentioned in the previous text, every single SpaceTX file (corresponding to a ReslicedTile) is decoded independently. This makes the decoding feasible, though slow, even on old laptops.\n",
    "\n",
    "The last step is then to concatenate all the decoded csv files that belong to a single experiment . For this, we use the following function."
   ]
  },
  {
   "cell_type": "code",
   "execution_count": null,
   "metadata": {},
   "outputs": [],
   "source": [
    "for sample in samples:\n",
    "    print (sample)\n",
    "    DEC.concatenate_starfish_output(path=sample+'/decoded_dense/',\n",
    "                            outpath=sample+'/decoded_dense/')"
   ]
  },
  {
   "cell_type": "code",
   "execution_count": 5,
   "metadata": {},
   "outputs": [
    {
     "name": "stdout",
     "output_type": "stream",
     "text": [
      "no FOVS done\n",
      "decoding fov_000\n",
      "getting images\n"
     ]
    },
    {
     "name": "stderr",
     "output_type": "stream",
     "text": [
      "100%|███████████████████████████████████████████████████████████████████████████████████████████████████████████████| 20/20 [00:00<00:00, 40.77it/s]\n"
     ]
    },
    {
     "name": "stdout",
     "output_type": "stream",
     "text": [
      "not registering images\n"
     ]
    },
    {
     "name": "stderr",
     "output_type": "stream",
     "text": [
      "100%|██████████████████████████████████████████████████████████████████████████████████████████████████████████████| 20/20 [00:00<00:00, 912.23it/s]\n"
     ]
    },
    {
     "name": "stdout",
     "output_type": "stream",
     "text": [
      "normalizing channel intensities\n"
     ]
    },
    {
     "name": "stderr",
     "output_type": "stream",
     "text": [
      "100%|█████████████████████████████████████████████████████████████████████████████████████████████████████████████████| 1/1 [00:00<00:00, 36.04it/s]\n"
     ]
    },
    {
     "name": "stdout",
     "output_type": "stream",
     "text": [
      "locating spots\n"
     ]
    },
    {
     "name": "stderr",
     "output_type": "stream",
     "text": [
      "100%|█████████████████████████████████████████████████████████████████████████████████████████████████████████████████| 1/1 [00:00<00:00, 58.58it/s]\n"
     ]
    },
    {
     "name": "stdout",
     "output_type": "stream",
     "text": [
      "decoding with PerRoundMaxChannel\n"
     ]
    },
    {
     "ename": "ValueError",
     "evalue": "Codebook and Intensities must have same number of channels and rounds. IntensityTable shape: Frozen({'features': 68890, 'r': 4, 'c': 5}), Codebook shape: Frozen({'target': 363, 'r': 5, 'c': 5})",
     "output_type": "error",
     "traceback": [
      "\u001b[31m---------------------------------------------------------------------------\u001b[39m",
      "\u001b[31mValueError\u001b[39m                                Traceback (most recent call last)",
      "\u001b[36mCell\u001b[39m\u001b[36m \u001b[39m\u001b[32mIn[5]\u001b[39m\u001b[32m, line 2\u001b[39m\n\u001b[32m      1\u001b[39m \u001b[38;5;28;01mfor\u001b[39;00m sample \u001b[38;5;129;01min\u001b[39;00m samples:\n\u001b[32m----> \u001b[39m\u001b[32m2\u001b[39m     \u001b[43mDEC\u001b[49m\u001b[43m.\u001b[49m\u001b[43mprocess_experiment\u001b[49m\u001b[43m(\u001b[49m\u001b[43mexp_path\u001b[49m\u001b[43m \u001b[49m\u001b[43m=\u001b[49m\u001b[43m \u001b[49m\u001b[43msample\u001b[49m\u001b[43m+\u001b[49m\u001b[33;43m'\u001b[39;49m\u001b[33;43m/SpaceTX_format_rfl/experiment.json\u001b[39;49m\u001b[33;43m'\u001b[39;49m\u001b[43m,\u001b[49m\u001b[43m \u001b[49m\n\u001b[32m      3\u001b[39m \u001b[43m    \u001b[49m\u001b[43moutput\u001b[49m\u001b[43m \u001b[49m\u001b[43m=\u001b[49m\u001b[43m \u001b[49m\u001b[43msample\u001b[49m\u001b[43m+\u001b[49m\u001b[33;43m'\u001b[39;49m\u001b[33;43m/decoded_sparse/\u001b[39;49m\u001b[33;43m'\u001b[39;49m\u001b[43m,\u001b[49m\u001b[43m  \u001b[49m\n\u001b[32m      4\u001b[39m \u001b[43m    \u001b[49m\u001b[43mregister\u001b[49m\u001b[43m \u001b[49m\u001b[43m=\u001b[49m\u001b[43m \u001b[49m\u001b[38;5;28;43;01mFalse\u001b[39;49;00m\u001b[43m,\u001b[49m\n\u001b[32m      5\u001b[39m \u001b[43m    \u001b[49m\u001b[43mregister_dapi\u001b[49m\u001b[43m \u001b[49m\u001b[43m=\u001b[49m\u001b[43m \u001b[49m\u001b[38;5;28;43;01mFalse\u001b[39;49;00m\u001b[43m,\u001b[49m\n\u001b[32m      6\u001b[39m \u001b[43m    \u001b[49m\u001b[43mmasking_radius\u001b[49m\u001b[43m \u001b[49m\u001b[43m=\u001b[49m\u001b[43m \u001b[49m\u001b[32;43m7\u001b[39;49m\u001b[43m,\u001b[49m\u001b[43m \u001b[49m\n\u001b[32m      7\u001b[39m \u001b[43m    \u001b[49m\u001b[43mthreshold\u001b[49m\u001b[43m \u001b[49m\u001b[43m=\u001b[49m\u001b[43m \u001b[49m\u001b[32;43m0.002\u001b[39;49m\u001b[43m,\u001b[49m\u001b[43m \u001b[49m\n\u001b[32m      8\u001b[39m \u001b[43m    \u001b[49m\u001b[43msigma_vals\u001b[49m\u001b[43m \u001b[49m\u001b[43m=\u001b[49m\u001b[43m \u001b[49m\u001b[43m[\u001b[49m\u001b[32;43m1\u001b[39;49m\u001b[43m,\u001b[49m\u001b[43m \u001b[49m\u001b[32;43m10\u001b[39;49m\u001b[43m,\u001b[49m\u001b[43m \u001b[49m\u001b[32;43m30\u001b[39;49m\u001b[43m]\u001b[49m\u001b[43m,\u001b[49m\u001b[43m \u001b[49m\u001b[38;5;66;43;03m# min, max and number\u001b[39;49;00m\n\u001b[32m      9\u001b[39m \u001b[43m    \u001b[49m\u001b[43mdecode_mode\u001b[49m\u001b[43m \u001b[49m\u001b[43m=\u001b[49m\u001b[43m \u001b[49m\u001b[33;43m'\u001b[39;49m\u001b[33;43mPRMC\u001b[39;49m\u001b[33;43m'\u001b[39;49m\u001b[43m,\u001b[49m\n\u001b[32m     10\u001b[39m \u001b[43m    \u001b[49m\u001b[43mnormalization_method\u001b[49m\u001b[43m \u001b[49m\u001b[43m=\u001b[49m\u001b[43m \u001b[49m\u001b[33;43m'\u001b[39;49m\u001b[33;43mMH\u001b[39;49m\u001b[33;43m'\u001b[39;49m\u001b[43m,\u001b[49m\n\u001b[32m     11\u001b[39m \u001b[43m    \u001b[49m\u001b[43mdense\u001b[49m\u001b[43m \u001b[49m\u001b[43m=\u001b[49m\u001b[43m \u001b[49m\u001b[38;5;28;43;01mFalse\u001b[39;49;00m\n\u001b[32m     12\u001b[39m \u001b[43m            \u001b[49m\u001b[43m)\u001b[49m\n",
      "\u001b[36mFile \u001b[39m\u001b[32m~/miniforge3/envs/ISS_decoding/lib/python3.11/site-packages/ISS_decoding/decoding.py:320\u001b[39m, in \u001b[36mprocess_experiment\u001b[39m\u001b[34m(exp_path, output, register, register_dapi, masking_radius, threshold, sigma_vals, decode_mode, normalization_method, dense)\u001b[39m\n\u001b[32m    308\u001b[39m     decoded = ISS_pipeline_dense(\n\u001b[32m    309\u001b[39m         experiment[i], \n\u001b[32m    310\u001b[39m         experiment.codebook, \n\u001b[32m   (...)\u001b[39m\u001b[32m    317\u001b[39m         channel_normalization=normalization_method\n\u001b[32m    318\u001b[39m     )\n\u001b[32m    319\u001b[39m \u001b[38;5;28;01melse\u001b[39;00m:\n\u001b[32m--> \u001b[39m\u001b[32m320\u001b[39m     decoded = \u001b[43mISS_pipeline\u001b[49m\u001b[43m(\u001b[49m\n\u001b[32m    321\u001b[39m \u001b[43m        \u001b[49m\u001b[43mexperiment\u001b[49m\u001b[43m[\u001b[49m\u001b[43mi\u001b[49m\u001b[43m]\u001b[49m\u001b[43m,\u001b[49m\u001b[43m \u001b[49m\n\u001b[32m    322\u001b[39m \u001b[43m        \u001b[49m\u001b[43mexperiment\u001b[49m\u001b[43m.\u001b[49m\u001b[43mcodebook\u001b[49m\u001b[43m,\u001b[49m\u001b[43m \u001b[49m\n\u001b[32m    323\u001b[39m \u001b[43m        \u001b[49m\u001b[43mregister\u001b[49m\u001b[43m=\u001b[49m\u001b[43mregister\u001b[49m\u001b[43m,\u001b[49m\u001b[43m \u001b[49m\n\u001b[32m    324\u001b[39m \u001b[43m        \u001b[49m\u001b[43mregister_dapi\u001b[49m\u001b[43m=\u001b[49m\u001b[43mregister_dapi\u001b[49m\u001b[43m,\u001b[49m\u001b[43m \u001b[49m\n\u001b[32m    325\u001b[39m \u001b[43m        \u001b[49m\u001b[43mmasking_radius\u001b[49m\u001b[43m=\u001b[49m\u001b[43mmasking_radius\u001b[49m\u001b[43m,\u001b[49m\u001b[43m \u001b[49m\n\u001b[32m    326\u001b[39m \u001b[43m        \u001b[49m\u001b[43mthreshold\u001b[49m\u001b[43m=\u001b[49m\u001b[43mthreshold\u001b[49m\u001b[43m,\u001b[49m\u001b[43m \u001b[49m\n\u001b[32m    327\u001b[39m \u001b[43m        \u001b[49m\u001b[43msigma_vals\u001b[49m\u001b[43m=\u001b[49m\u001b[43msigma_vals\u001b[49m\u001b[43m,\u001b[49m\u001b[43m \u001b[49m\n\u001b[32m    328\u001b[39m \u001b[43m        \u001b[49m\u001b[43mdecode_mode\u001b[49m\u001b[43m=\u001b[49m\u001b[43mdecode_mode\u001b[49m\u001b[43m,\u001b[49m\u001b[43m \u001b[49m\n\u001b[32m    329\u001b[39m \u001b[43m        \u001b[49m\u001b[43mchannel_normalization\u001b[49m\u001b[43m=\u001b[49m\u001b[43mnormalization_method\u001b[49m\n\u001b[32m    330\u001b[39m \u001b[43m    \u001b[49m\u001b[43m)\u001b[49m\n\u001b[32m    331\u001b[39m df = QC_score_calc(decoded)\n\u001b[32m    332\u001b[39m \u001b[38;5;66;03m# Ensure proper file path concatenation\u001b[39;00m\n",
      "\u001b[36mFile \u001b[39m\u001b[32m~/miniforge3/envs/ISS_decoding/lib/python3.11/site-packages/ISS_decoding/decoding.py:169\u001b[39m, in \u001b[36mISS_pipeline\u001b[39m\u001b[34m(fov, codebook, register, register_dapi, masking_radius, threshold, sigma_vals, decode_mode, channel_normalization)\u001b[39m\n\u001b[32m    167\u001b[39m     \u001b[38;5;28mprint\u001b[39m(\u001b[33m'\u001b[39m\u001b[33mdecoding with PerRoundMaxChannel\u001b[39m\u001b[33m'\u001b[39m)\n\u001b[32m    168\u001b[39m     decoder = DecodeSpots.PerRoundMaxChannel(codebook=codebook)\n\u001b[32m--> \u001b[39m\u001b[32m169\u001b[39m     decoded = \u001b[43mdecoder\u001b[49m\u001b[43m.\u001b[49m\u001b[43mrun\u001b[49m\u001b[43m(\u001b[49m\u001b[43mspots\u001b[49m\u001b[43m=\u001b[49m\u001b[43mspots\u001b[49m\u001b[43m)\u001b[49m\n\u001b[32m    170\u001b[39m     \u001b[38;5;66;03m# Build IntensityTable with same TraceBuilder as was used in MetricDistance\u001b[39;00m\n\u001b[32m    173\u001b[39m \u001b[38;5;28;01melif\u001b[39;00m decode_mode == \u001b[33m'\u001b[39m\u001b[33mMD\u001b[39m\u001b[33m'\u001b[39m:\n",
      "\u001b[36mFile \u001b[39m\u001b[32m~/miniforge3/envs/ISS_decoding/lib/python3.11/site-packages/starfish/core/pipeline/algorithmbase.py:23\u001b[39m, in \u001b[36mAlgorithmBase.run_with_logging.<locals>.helper\u001b[39m\u001b[34m(*args, **kwargs)\u001b[39m\n\u001b[32m     21\u001b[39m \u001b[38;5;129m@functools\u001b[39m.wraps(func)\n\u001b[32m     22\u001b[39m \u001b[38;5;28;01mdef\u001b[39;00m\u001b[38;5;250m \u001b[39m\u001b[34mhelper\u001b[39m(*args, **kwargs):\n\u001b[32m---> \u001b[39m\u001b[32m23\u001b[39m     result = \u001b[43mfunc\u001b[49m\u001b[43m(\u001b[49m\u001b[43m*\u001b[49m\u001b[43margs\u001b[49m\u001b[43m,\u001b[49m\u001b[43m \u001b[49m\u001b[43m*\u001b[49m\u001b[43m*\u001b[49m\u001b[43mkwargs\u001b[49m\u001b[43m)\u001b[49m\n\u001b[32m     24\u001b[39m     \u001b[38;5;28;01mif\u001b[39;00m result \u001b[38;5;129;01mis\u001b[39;00m \u001b[38;5;129;01mnot\u001b[39;00m \u001b[38;5;28;01mNone\u001b[39;00m:\n\u001b[32m     25\u001b[39m         method_class_str = \u001b[38;5;28mstr\u001b[39m(args[\u001b[32m0\u001b[39m].\u001b[34m__class__\u001b[39m)\n",
      "\u001b[36mFile \u001b[39m\u001b[32m~/miniforge3/envs/ISS_decoding/lib/python3.11/site-packages/starfish/core/spots/DecodeSpots/per_round_max_channel_decoder.py:66\u001b[39m, in \u001b[36mPerRoundMaxChannel.run\u001b[39m\u001b[34m(self, spots, *args)\u001b[39m\n\u001b[32m     62\u001b[39m intensities = \u001b[38;5;28mself\u001b[39m.trace_builder(spot_results=spots,\n\u001b[32m     63\u001b[39m                                  anchor_round=\u001b[38;5;28mself\u001b[39m.anchor_round,\n\u001b[32m     64\u001b[39m                                  search_radius=\u001b[38;5;28mself\u001b[39m.search_radius)\n\u001b[32m     65\u001b[39m transfer_physical_coords_to_intensity_table(intensity_table=intensities, spots=spots)\n\u001b[32m---> \u001b[39m\u001b[32m66\u001b[39m \u001b[38;5;28;01mreturn\u001b[39;00m \u001b[38;5;28;43mself\u001b[39;49m\u001b[43m.\u001b[49m\u001b[43mcodebook\u001b[49m\u001b[43m.\u001b[49m\u001b[43mdecode_per_round_max\u001b[49m\u001b[43m(\u001b[49m\u001b[43mintensities\u001b[49m\u001b[43m)\u001b[49m\n",
      "\u001b[36mFile \u001b[39m\u001b[32m~/miniforge3/envs/ISS_decoding/lib/python3.11/site-packages/starfish/core/codebook/codebook.py:681\u001b[39m, in \u001b[36mCodebook.decode_per_round_max\u001b[39m\u001b[34m(self, intensities)\u001b[39m\n\u001b[32m    673\u001b[39m     dtype = np.dtype(\n\u001b[32m    674\u001b[39m         {\n\u001b[32m    675\u001b[39m             \u001b[33m'\u001b[39m\u001b[33mnames\u001b[39m\u001b[33m'\u001b[39m: [\u001b[33m'\u001b[39m\u001b[33mf\u001b[39m\u001b[38;5;132;01m{}\u001b[39;00m\u001b[33m'\u001b[39m.format(i) \u001b[38;5;28;01mfor\u001b[39;00m i \u001b[38;5;129;01min\u001b[39;00m \u001b[38;5;28mrange\u001b[39m(ncols)],\n\u001b[32m    676\u001b[39m             \u001b[33m'\u001b[39m\u001b[33mformats\u001b[39m\u001b[33m'\u001b[39m: ncols * [array.dtype]\n\u001b[32m    677\u001b[39m         }\n\u001b[32m    678\u001b[39m     )\n\u001b[32m    679\u001b[39m     \u001b[38;5;28;01mreturn\u001b[39;00m array.view(dtype)\n\u001b[32m--> \u001b[39m\u001b[32m681\u001b[39m \u001b[38;5;28;43mself\u001b[39;49m\u001b[43m.\u001b[49m\u001b[43m_validate_decode_intensity_input_matches_codebook_shape\u001b[49m\u001b[43m(\u001b[49m\u001b[43mintensities\u001b[49m\u001b[43m)\u001b[49m\n\u001b[32m    683\u001b[39m \u001b[38;5;66;03m# add empty metadata fields and return\u001b[39;00m\n\u001b[32m    684\u001b[39m \u001b[38;5;28;01mif\u001b[39;00m intensities.sizes[Features.AXIS] == \u001b[32m0\u001b[39m:\n",
      "\u001b[36mFile \u001b[39m\u001b[32m~/miniforge3/envs/ISS_decoding/lib/python3.11/site-packages/starfish/core/codebook/codebook.py:532\u001b[39m, in \u001b[36mCodebook._validate_decode_intensity_input_matches_codebook_shape\u001b[39m\u001b[34m(self, intensities)\u001b[39m\n\u001b[32m    530\u001b[39m round_match = intensities.sizes.get(Axes.ROUND, \u001b[32m0\u001b[39m) == \u001b[38;5;28mself\u001b[39m.sizes.get(Axes.ROUND, \u001b[32m0\u001b[39m)\n\u001b[32m    531\u001b[39m \u001b[38;5;28;01mif\u001b[39;00m \u001b[38;5;129;01mnot\u001b[39;00m (ch_match \u001b[38;5;129;01mand\u001b[39;00m round_match):\n\u001b[32m--> \u001b[39m\u001b[32m532\u001b[39m     \u001b[38;5;28;01mraise\u001b[39;00m \u001b[38;5;167;01mValueError\u001b[39;00m(\n\u001b[32m    533\u001b[39m         \u001b[33m'\u001b[39m\u001b[33mCodebook and Intensities must have same number of channels and rounds. \u001b[39m\u001b[33m'\u001b[39m\n\u001b[32m    534\u001b[39m         \u001b[33mf\u001b[39m\u001b[33m'\u001b[39m\u001b[33mIntensityTable shape: \u001b[39m\u001b[38;5;132;01m{\u001b[39;00mintensities.sizes\u001b[38;5;132;01m}\u001b[39;00m\u001b[33m, Codebook shape: \u001b[39m\u001b[38;5;132;01m{\u001b[39;00m\u001b[38;5;28mself\u001b[39m.sizes\u001b[38;5;132;01m}\u001b[39;00m\u001b[33m'\u001b[39m\n\u001b[32m    535\u001b[39m     )\n",
      "\u001b[31mValueError\u001b[39m: Codebook and Intensities must have same number of channels and rounds. IntensityTable shape: Frozen({'features': 68890, 'r': 4, 'c': 5}), Codebook shape: Frozen({'target': 363, 'r': 5, 'c': 5})"
     ]
    }
   ],
   "source": [
    "for sample in samples:\n",
    "    DEC.process_experiment(exp_path = sample+'/SpaceTX_format_rfl/experiment.json', \n",
    "    output = sample+'/decoded_sparse/',  \n",
    "    register = False,\n",
    "    register_dapi = False,\n",
    "    masking_radius = 7, \n",
    "    threshold = 0.002, \n",
    "    sigma_vals = [1, 10, 30], # min, max and number\n",
    "    decode_mode = 'PRMC',\n",
    "    normalization_method = 'MH',\n",
    "    dense = False\n",
    "            )"
   ]
  },
  {
   "cell_type": "code",
   "execution_count": null,
   "metadata": {},
   "outputs": [],
   "source": [
    "for sample in samples:\n",
    "    print (sample)\n",
    "    DEC.concatenate_starfish_output(path=sample+'/decoded_sparse/',\n",
    "                            outpath=sample+'/decoded_sparse/')"
   ]
  },
  {
   "cell_type": "markdown",
   "metadata": {},
   "source": [
    "_________________\n",
    "\n",
    "\n",
    "\n",
    "_________________"
   ]
  },
  {
   "cell_type": "markdown",
   "metadata": {},
   "source": [
    "# Explore the decoded data"
   ]
  },
  {
   "cell_type": "markdown",
   "metadata": {},
   "source": [
    "After combining the csv files for every individual tile, we should get as an output a big table (saved in csv) containing the information of our raw decoded spots. The main columns are: \n",
    "\n",
    "1. The location of the decoded spot (columns “xc” and “yc”) and \n",
    "\n",
    "2. the identity of every spot (column: “target”). \n",
    "\n",
    "Similarly to what happens in NGS experiments, there \"raw\" reads migh have variable quality and one key step before performing downstream analyses is to assess this quality and filter the data if necessary (**spoiler alert: it is always necessary to do some level of filtering**)"
   ]
  },
  {
   "cell_type": "markdown",
   "metadata": {},
   "source": [
    "From now on, we'll need to work on each sample individually. It is important to assess the quality of the reads on individual sample, for obvious reasons.\n",
    "\n",
    "First of all we read the combined CSV file for one sections. You will have to input the path down here accordingly."
   ]
  },
  {
   "cell_type": "code",
   "execution_count": 51,
   "metadata": {},
   "outputs": [],
   "source": [
    "reads=pd.read_csv('/path/to/your/decoding_output/decoded.csv')"
   ]
  },
  {
   "cell_type": "markdown",
   "metadata": {},
   "source": [
    "The number of extracted raw reads for this section is:"
   ]
  },
  {
   "cell_type": "code",
   "execution_count": 52,
   "metadata": {},
   "outputs": [
    {
     "data": {
      "text/plain": [
       "417000"
      ]
     },
     "execution_count": 52,
     "metadata": {},
     "output_type": "execute_result"
    }
   ],
   "source": [
    "len(reads)"
   ]
  },
  {
   "cell_type": "markdown",
   "metadata": {},
   "source": [
    "## Understanding read quality\n",
    "\n",
    "To have an idea of how the read quality looks like, we can generate a violin plot of the qualities per cycle using the `quality_per_cycle` function. The function gets the data from the `reads` table above. The number of cycles needs to be specified manually by the user. \n",
    "\n",
    "You can have a look at the manual to understand how the quality is calculated. Summing up, 1 is the theoretical maximum and 0.25 the theoretical minimum in a 4 colour setting. The more your violin plots are shifted towards 1, the better."
   ]
  },
  {
   "cell_type": "code",
   "execution_count": null,
   "metadata": {},
   "outputs": [],
   "source": [
    "QC.quality_per_cycle(reads,cycles=4)"
   ]
  },
  {
   "cell_type": "markdown",
   "metadata": {},
   "source": [
    "Another useful plot to generate is to see how quality score metrics reflect whether a read has a match on the codebook (\"assigned\") or not (\"non assigned\"). We plot the `quality_minimum` and `quality_mean` against the assignment/non assignment to understand which is the best strategy to filter our data. Ideally we should infer from this plot a good quality threshold for filtering our data. "
   ]
  },
  {
   "cell_type": "code",
   "execution_count": null,
   "metadata": {},
   "outputs": [],
   "source": [
    "QC.compare_scores(reads,score1='quality_mean',score2='quality_minimum',hue='assigned',kind='hist',color='#3266a8')\n"
   ]
  },
  {
   "cell_type": "markdown",
   "metadata": {},
   "source": [
    "The following command does the same, but only on a single score."
   ]
  },
  {
   "cell_type": "code",
   "execution_count": null,
   "metadata": {},
   "outputs": [],
   "source": [
    "QC.plot_scores(reads,on='quality_mean',hue='assigned',log_scale=False) "
   ]
  },
  {
   "cell_type": "markdown",
   "metadata": {},
   "source": [
    "## Filtering the data\n",
    "\n",
    "There are different strategies to filter the data, depending on what the above plots show. You can refer to the manual for more specific example.\n",
    "\n",
    "A general common sense criterion is to filter out all the reads whose `quality_minimum` is < 0.5\n",
    "This discards all the reads that show poor quality in **at least one cycle**. This is quite a conservative criterion, but as a rule of thumb is a good one.\n",
    "\n",
    "\n",
    "Other methods for filtering are also described in the relevant part of the manual."
   ]
  },
  {
   "cell_type": "code",
   "execution_count": 53,
   "metadata": {},
   "outputs": [],
   "source": [
    "reads_filt=QC.filter_reads(reads,min_quality_minimum=0.5)\n"
   ]
  },
  {
   "cell_type": "markdown",
   "metadata": {},
   "source": [
    "The number of filtered reads for this section is:"
   ]
  },
  {
   "cell_type": "code",
   "execution_count": 54,
   "metadata": {},
   "outputs": [
    {
     "data": {
      "text/plain": [
       "370251"
      ]
     },
     "execution_count": 54,
     "metadata": {},
     "output_type": "execute_result"
    }
   ],
   "source": [
    "len(reads_filt)"
   ]
  },
  {
   "cell_type": "code",
   "execution_count": null,
   "metadata": {},
   "outputs": [],
   "source": []
  },
  {
   "cell_type": "markdown",
   "metadata": {},
   "source": [
    "# Plot expression data\n",
    "\n",
    "After quality-filtering, a sensible thing to do is to plot the gene expression decoded from your tissue. \n",
    "\n",
    "Parameters `xcolumn` and `y column` define the XY positions of your spots in the `reads_filt` dataframe. \n",
    "\n",
    "`key` points to the column containing the gene identity of your spots in the `reads_filt` dataframe.\n",
    "\n",
    "`genes` allows to plot a single gene per plot (=`individual`), or to plots all genes in a single plot (=`all`)\n",
    "\n",
    "`size`= sets the dot size\n",
    "\n",
    "`background`= sets the background color\t\n",
    "\n",
    "`title_color`= sets the color of the title for each plot.\n",
    "\n",
    "`colorcode`= sets the color of the expression dots\n",
    "\n",
    "`figuresize`=(10,10) sets the size of the plot\n",
    "\n",
    "`save`= defaults to `None`. If `True` saves the plot in the speficied `format`\n",
    "\n",
    "`format`= saves the plot to a specific format (ie `pdf`)\n"
   ]
  },
  {
   "cell_type": "code",
   "execution_count": null,
   "metadata": {},
   "outputs": [],
   "source": [
    "QC.plot_expression(reads,key='target',colorcode=['red'],xcolumn='xc',ycolumn='yc',genes='individual',size=8,background='black',title_color='white',figuresize=(10,10),save=None,format='pdf')"
   ]
  },
  {
   "cell_type": "markdown",
   "metadata": {},
   "source": [
    "## Other useful functions\n",
    "\n",
    "`quality_per_gene`: this function plots the quality of the reads assigned to each gene. Since every gene has an associated sequence of colors across cycles, we might have a big quality bias between different genes arising just because of the colour sequence (ie. if a channel has always a bad signal/noise, genes with many cycles in that channels will always have lower quality)."
   ]
  },
  {
   "cell_type": "code",
   "execution_count": null,
   "metadata": {},
   "outputs": [],
   "source": [
    "QC.quality_per_gene(reads,on='quality_mean',gene_name='target')"
   ]
  },
  {
   "cell_type": "markdown",
   "metadata": {},
   "source": [
    "`plot_frequencies`: allows us to plot the relative abundance of the decoded dots for each gene. This is useful to identify potential decoding artefacts. For example, a gene that looks 1000 times more abundant than the second more represented gene, should raise an eyebrow."
   ]
  },
  {
   "cell_type": "code",
   "execution_count": null,
   "metadata": {},
   "outputs": [],
   "source": [
    "QC.plot_frequencies(reads,on='target')"
   ]
  },
  {
   "cell_type": "code",
   "execution_count": null,
   "metadata": {},
   "outputs": [],
   "source": []
  }
 ],
 "metadata": {
  "kernelspec": {
   "display_name": "ISS_decoding",
   "language": "python",
   "name": "iss_decoding"
  },
  "language_info": {
   "codemirror_mode": {
    "name": "ipython",
    "version": 3
   },
   "file_extension": ".py",
   "mimetype": "text/x-python",
   "name": "python",
   "nbconvert_exporter": "python",
   "pygments_lexer": "ipython3",
   "version": "3.11.12"
  }
 },
 "nbformat": 4,
 "nbformat_minor": 4
}
