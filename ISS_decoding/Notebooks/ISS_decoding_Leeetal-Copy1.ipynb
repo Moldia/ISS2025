{
 "cells": [
  {
   "cell_type": "markdown",
   "metadata": {},
   "source": [
    "# ISS_decoding of preprocessed files"
   ]
  },
  {
   "cell_type": "markdown",
   "metadata": {},
   "source": [
    "This notebook guides you through the steps necessary for the decoding of ISS image data that have been preprocessed using our `ISS_preprocessing` module.\n",
    "\n",
    "In this step, we make use of the starfish library to extract the information contained in our images. starfish is a Python library for processing images of image-based spatial transcriptomics. You can read more about it here: https://spacetx-starfish.readthedocs.io/en/latest/\n",
    "\n",
    "In the following steps, we first format our images to a starfish-compatible format (SpaceTx), and provide some information about our experiment design. \n",
    "Once this is completed, we can proceed to the actual decoding of the data from the SpaceTx images.\n",
    "Format images.\n",
    "\n",
    "\n",
    "For this notebook to work correctly, you should have a specific folder for each one of the sections you want to process, and each folder should contain the following subfolders tree: `/preprocessing/ReslicedTiles`. Under `/preprocessing` you might still have other subfolders such as `/mipped/`, `/OME_tiffs/` and `/stitched/`, but these are irrelevant at this stage, and will not exist in the output folder from `ISS_CARE`, if that's the choice you've made for denoising the images. \n",
    "\n",
    "The important thing is that you have a `/preprocessing/ReslicedTiles/`, because the resliced images are the starting point of the preprocessing"
   ]
  },
  {
   "cell_type": "markdown",
   "metadata": {},
   "source": [
    "## We start by importing the necessary modules"
   ]
  },
  {
   "cell_type": "code",
   "execution_count": 1,
   "metadata": {},
   "outputs": [],
   "source": [
    "import ISS_decoding.SpaceTx_format as STX\n",
    "import ISS_decoding.decoding as DEC\n",
    "import ISS_decoding.qc_metrics as QC\n",
    "import pandas as pd"
   ]
  },
  {
   "cell_type": "markdown",
   "metadata": {},
   "source": [
    "## Specify the path where your preprocessed sections are saved\n",
    "\n",
    "Here we input the path to each one of the samples as an element of a list. Each element needs to contain the full path to the sample folder. We consider as \"sample folder\" the parent folder to `/preprocessing/`.\n"
   ]
  },
  {
   "cell_type": "code",
   "execution_count": 2,
   "metadata": {},
   "outputs": [],
   "source": [
    "samples=['/home/marco/Downloads/media/marco/output_folder_natsort_LEE/']\n",
    "\n",
    "\n",
    "    "
   ]
  },
  {
   "cell_type": "markdown",
   "metadata": {},
   "source": [
    "## Format the images to SpaceTx format\n",
    "\n",
    "The first thing to do before we can start the actual decoding is to transform our images (the resliced tiles) to the SpaceTx format.\n",
    "\n",
    "To read more about the SpaceTx format, read the following: https://github.com/spacetx/sptx-format\n",
    "\n",
    "In order to complete this step, you need to input the path to a `codebook_csv`. This is a file that associates a unique color sequence across ISS cycles to each gene. This file is a comma separated file with no header, in which the first column contains the gene name, while  columns 2 to 6 (in case of a 6 cycle experiment) contain numbers representing the expected positive DO_decorator in each cycle for that gene. \n",
    "\n",
    "Let's look at the variables are taken by the function:\n",
    "\n",
    "`filenames` = type: `list`. This list contains the names of the subfolders in the ReslicedTiles folder. Depending on how many cycles you have in your experiment, you will have to shorten it. For example, if you only have 4 cycles, you should remove: 'Base_5_stitched','Base_6_stitched'. \n",
    "\n",
    "`tile_dim` = type: `int`. The dimensions of your ReslicedTiles. Default = 2000. Make sure this matches the `tile_dim` size you used in the `tile_stitched_images` function in the `ISS_preprocessing` module.\n",
    "\n",
    "`pixelscale`  = type: `int`. This is the size of the pixels in microns. This is needed if you want the coordinates of the spot to be output in microns, and will depend on your microscope settings. Set to 1 if you want the data to be on a coordinate scale. Default = 0.1625.\n",
    "\n",
    "`channels` = type: `list`. The channels, in the order they were acquired in the microscope. Default = [\"AF750\", \"Cy5\", \"Cy3\", \"AF488\", \"DAPI\"]\n",
    "\n",
    "`DO_decorators` =  type: `list` **This point can be tricky to understant.** This shows how you associate the numbers in the codebook (ie 1,2,3,4) to a specific list of colors (DO_decorator) . In our lab, 1,2,3,4 correspond to  [\"AF750\", \"488\", \"Cy3\",  \"Cy5\"]. Default =  [\"AF750\", \"488\", \"cy3\",  \"Cy5\"]. Users who will follow our barcode design and readout schemes should not change this.\n",
    "\n",
    "`folder_spacetx`  = this is the name of the folder containing where the SpaceTx files will be saved. Default = SpaceTX_format. \n",
    "\n",
    "`nuclei_channel`  = type: `int`. This is the number of the channel that corresponds to your nuclei stained image. This is 1-indexed and our default = 5. \n",
    "\n",
    "\n",
    "\n",
    "\n",
    "\n",
    "\n"
   ]
  },
  {
   "cell_type": "code",
   "execution_count": 3,
   "metadata": {},
   "outputs": [],
   "source": [
    "\n",
    "for sample in samples:\n",
    "    STX.make_spacetx_format(path = sample,\n",
    "    codebook_csv = '/home/marco/Downloads/media/marco/mountstuff/codebook_organoid.csv',\n",
    "    filenames=['Base_1_stitched', 'Base_2_stitched', \n",
    "               'Base_3_stitched', 'Base_4_stitched', 'Base_5_stitched'],\n",
    "    tile_dim=6000,\n",
    "    pixelscale=1,\n",
    "    channels=[\"AF750\", \"Cy5\", \"Cy3\", \"AF488\", \"DAPI\", \"At425\"],\n",
    "    DO_decorators=[\"AF750\", \"AF488\", \"Cy3\", \"Cy5\", \"At425\"],\n",
    "    folder_spacetx='SpaceTX_format_chricode_LEE',\n",
    "    nuclei_channel=4,\n",
    "    )\n"
   ]
  },
  {
   "cell_type": "markdown",
   "metadata": {},
   "source": [
    "## Decode the SpaceTx formatted data\n",
    "\n",
    "\n",
    "At this stage, after running the above code block, you should have successfully transformed your preprocessed resliced tiles into the SpaceTx format. Each `/preprocessing/SpaceTX_format/` should now contain a file called `experiment.json`\n",
    "\n",
    "To decode the images, we now need to use the `process_experiment` function.\n",
    "\n",
    "\n",
    "In brief, the function will take each individual SpaceTx image file, looks for the same spot across cycles, deduce a colour sequence for each spot across the different cycles, and match the extracted sequence to the `codebook` we provided previously. \n",
    "\n",
    "In detail, this process is actually a bit more complex and several steps happen within the `process_experiment` function. We suggest you to have a look at the relevant part of the manual for exhaustive explanation of what happens under the hood. \n",
    "\n",
    "### Changing decoding parameters\n",
    "\n",
    "Modifying some of  the input parameters of the `process_experiment` function, it is possible to explore a range of settings to optimize the decoding for every specific experiment, if necessary.\n",
    "\n",
    "`Exp_path`: here you have to specify the path to the `experiment.json` described above. This is normally inside the `SpaceTX_format` subfolder.\n",
    "\n",
    "`Output`: This is the output folder, where the decoded data will be deposited. We recommend that this path points to a new empty folder, since the function generates and individual csv for every tile processed.\n",
    "\n",
    "`Register`: select `True` if you want to register/align your images and `False` if you don’t want to align your images. In principle, this should be already taken care of by the `ISS_preprocessing` module. Nevertheles, this step is also recommended, as sometimes small adjustments in the registration of images improve this step.\n",
    "\n",
    "`Register_dapi`: specify `True` if you want to align your images based on Dapi/ nuclear staining. If it’s specified as `False`, the alignment will be done based on a pseudoanchor(please read the glossary on the manual to know what this is). This parameter only is considered if the parameter `Register==True`.\n",
    "\n",
    "`Masking radius`: the radius of the top hat filter for spot detection. Depending on the size, it will “smoothen” your data to a different extent. The standard values go between 7 and 15. We recommend 7. Refer to the manual for further explanations.\n",
    "\n",
    "`Threshold`: Defines the minimum intensity that a spot should have in order to be detected. Decreasing the threshold increases the number of detected spots, but also increases the chance of background signal being counted as a spot. \n",
    "\n",
    "`Sigma vals`:  correspond to min_sigma, max_sigma, num_sigma. See https://spacetx-starfish.readthedocs.io/en/latest/api/spots/index.html#spot-finding. Our default values are set in a way that allow us to capture signals in our experimental settings, on both Leica and Zeiss and at both 20x and 40x magnifications.\n",
    "\n",
    "`Decode_mode`: two options are given: ‘PRMC’: per round max channel OR ‘MD’, metric distance. We suggest to use PRMC. More information on how the two methods differ are in the manual.\n",
    "\n",
    "`Normalization method`: ‘MH’ or ‘CPTZ’. These are two alternative image normalization methods. We normally advise to use 'MH' for ISS data. Please refer to the manual to understand the differences.\n",
    "\n",
    "However the above parameters are specified, the output decoded files will always be .csv files consisting essentially of the location (XY position) and identity (gene) of every spot decoded. \n"
   ]
  },
  {
   "cell_type": "code",
   "execution_count": 4,
   "metadata": {},
   "outputs": [
    {
     "name": "stdout",
     "output_type": "stream",
     "text": [
      "no FOVS done\n",
      "decoding fov_000\n",
      "getting images\n"
     ]
    },
    {
     "name": "stderr",
     "output_type": "stream",
     "text": [
      "100%|███████████████████████████████████████████| 25/25 [00:01<00:00, 19.94it/s]\n"
     ]
    },
    {
     "name": "stdout",
     "output_type": "stream",
     "text": [
      "not registering images\n"
     ]
    },
    {
     "name": "stderr",
     "output_type": "stream",
     "text": [
      "100%|██████████████████████████████████████████| 25/25 [00:00<00:00, 850.26it/s]\n"
     ]
    },
    {
     "name": "stdout",
     "output_type": "stream",
     "text": [
      "normalizing channel intensities\n"
     ]
    },
    {
     "name": "stderr",
     "output_type": "stream",
     "text": [
      "100%|█████████████████████████████████████████████| 1/1 [00:00<00:00, 21.63it/s]\n"
     ]
    },
    {
     "name": "stdout",
     "output_type": "stream",
     "text": [
      "locating spots\n"
     ]
    },
    {
     "name": "stderr",
     "output_type": "stream",
     "text": [
      "100%|█████████████████████████████████████████████| 1/1 [00:00<00:00, 25.26it/s]\n"
     ]
    },
    {
     "name": "stdout",
     "output_type": "stream",
     "text": [
      "decoding with PerRoundMaxChannel\n",
      "decoding fov_001\n",
      "getting images\n"
     ]
    },
    {
     "name": "stderr",
     "output_type": "stream",
     "text": [
      "100%|███████████████████████████████████████████| 25/25 [00:01<00:00, 19.78it/s]\n"
     ]
    },
    {
     "name": "stdout",
     "output_type": "stream",
     "text": [
      "not registering images\n"
     ]
    },
    {
     "name": "stderr",
     "output_type": "stream",
     "text": [
      "100%|██████████████████████████████████████████| 25/25 [00:00<00:00, 788.09it/s]\n"
     ]
    },
    {
     "name": "stdout",
     "output_type": "stream",
     "text": [
      "normalizing channel intensities\n"
     ]
    },
    {
     "name": "stderr",
     "output_type": "stream",
     "text": [
      "100%|█████████████████████████████████████████████| 1/1 [00:00<00:00, 26.19it/s]\n"
     ]
    },
    {
     "name": "stdout",
     "output_type": "stream",
     "text": [
      "locating spots\n"
     ]
    },
    {
     "name": "stderr",
     "output_type": "stream",
     "text": [
      "100%|█████████████████████████████████████████████| 1/1 [00:00<00:00, 24.21it/s]\n"
     ]
    },
    {
     "name": "stdout",
     "output_type": "stream",
     "text": [
      "decoding with PerRoundMaxChannel\n",
      "decoding fov_002\n",
      "getting images\n"
     ]
    },
    {
     "name": "stderr",
     "output_type": "stream",
     "text": [
      "100%|███████████████████████████████████████████| 25/25 [00:01<00:00, 19.71it/s]\n"
     ]
    },
    {
     "name": "stdout",
     "output_type": "stream",
     "text": [
      "not registering images\n"
     ]
    },
    {
     "name": "stderr",
     "output_type": "stream",
     "text": [
      "100%|██████████████████████████████████████████| 25/25 [00:00<00:00, 844.41it/s]\n"
     ]
    },
    {
     "name": "stdout",
     "output_type": "stream",
     "text": [
      "normalizing channel intensities\n"
     ]
    },
    {
     "name": "stderr",
     "output_type": "stream",
     "text": [
      "100%|█████████████████████████████████████████████| 1/1 [00:00<00:00, 18.30it/s]\n"
     ]
    },
    {
     "name": "stdout",
     "output_type": "stream",
     "text": [
      "locating spots\n"
     ]
    },
    {
     "name": "stderr",
     "output_type": "stream",
     "text": [
      "100%|█████████████████████████████████████████████| 1/1 [00:00<00:00, 26.25it/s]\n"
     ]
    },
    {
     "name": "stdout",
     "output_type": "stream",
     "text": [
      "decoding with PerRoundMaxChannel\n",
      "decoding fov_003\n",
      "getting images\n"
     ]
    },
    {
     "name": "stderr",
     "output_type": "stream",
     "text": [
      "100%|███████████████████████████████████████████| 25/25 [00:01<00:00, 19.88it/s]\n"
     ]
    },
    {
     "name": "stdout",
     "output_type": "stream",
     "text": [
      "not registering images\n"
     ]
    },
    {
     "name": "stderr",
     "output_type": "stream",
     "text": [
      "100%|██████████████████████████████████████████| 25/25 [00:00<00:00, 854.24it/s]\n"
     ]
    },
    {
     "name": "stdout",
     "output_type": "stream",
     "text": [
      "normalizing channel intensities\n"
     ]
    },
    {
     "name": "stderr",
     "output_type": "stream",
     "text": [
      "100%|█████████████████████████████████████████████| 1/1 [00:00<00:00, 25.92it/s]\n"
     ]
    },
    {
     "name": "stdout",
     "output_type": "stream",
     "text": [
      "locating spots\n"
     ]
    },
    {
     "name": "stderr",
     "output_type": "stream",
     "text": [
      "100%|█████████████████████████████████████████████| 1/1 [00:00<00:00, 22.70it/s]\n"
     ]
    },
    {
     "name": "stdout",
     "output_type": "stream",
     "text": [
      "decoding with PerRoundMaxChannel\n"
     ]
    }
   ],
   "source": [
    "for sample in samples:\n",
    "    DEC.process_experiment(exp_path = sample+'/SpaceTX_format_chricode_LEE/experiment.json', \n",
    "    output = sample+'/decode_chricode_LEE/', \n",
    "    register = False,\n",
    "    register_dapi = False,\n",
    "    masking_radius = 7, \n",
    "    threshold = 0.002, \n",
    "    sigma_vals = [1, 10, 30], # min, max and number\n",
    "    decode_mode = 'PRMC',\n",
    "    normalization_method = 'MH' # or MD\n",
    "                          )\n",
    "    \n"
   ]
  },
  {
   "cell_type": "markdown",
   "metadata": {},
   "source": [
    "## Merging the decoded data.\n",
    "\n",
    "As mentioned in the previous text, every single SpaceTX file (corresponding to a ReslicedTile) is decoded independently. This makes the decoding feasible, though slow, even on old laptops.\n",
    "\n",
    "The last step is then to concatenate all the decoded csv files that belong to a single experiment . For this, we use the following function."
   ]
  },
  {
   "cell_type": "code",
   "execution_count": 5,
   "metadata": {},
   "outputs": [
    {
     "name": "stdout",
     "output_type": "stream",
     "text": [
      "/home/marco/Downloads/media/marco/output_folder_natsort_LEE/\n",
      "4\n",
      "fov_000.csv\n",
      "fov_001.csv\n",
      "fov_002.csv\n",
      "fov_003.csv\n"
     ]
    }
   ],
   "source": [
    "for sample in samples:\n",
    "    print (sample)\n",
    "    DEC.concatenate_starfish_output(path=sample+'/decode_chricode_LEE/',\n",
    "                            outpath=sample+'/decode_chricode_LEE/')"
   ]
  },
  {
   "cell_type": "code",
   "execution_count": 3,
   "metadata": {},
   "outputs": [],
   "source": [
    "conversion=pd.read_csv('/home/marco/Downloads/media/marco/mountstuff/code_to_gene_heart_and_gbm_error_corrected.csv', header=None, sep=';')"
   ]
  },
  {
   "cell_type": "code",
   "execution_count": 13,
   "metadata": {},
   "outputs": [],
   "source": [
    "decoded=pd.read_csv('/home/marco/Downloads/media/marco/output_folder_natsort_LEE/decoded_all_new/decoded.csv')"
   ]
  },
  {
   "cell_type": "code",
   "execution_count": null,
   "metadata": {},
   "outputs": [],
   "source": []
  },
  {
   "cell_type": "code",
   "execution_count": 14,
   "metadata": {},
   "outputs": [
    {
     "data": {
      "text/html": [
       "<div>\n",
       "<style scoped>\n",
       "    .dataframe tbody tr th:only-of-type {\n",
       "        vertical-align: middle;\n",
       "    }\n",
       "\n",
       "    .dataframe tbody tr th {\n",
       "        vertical-align: top;\n",
       "    }\n",
       "\n",
       "    .dataframe thead th {\n",
       "        text-align: right;\n",
       "    }\n",
       "</style>\n",
       "<table border=\"1\" class=\"dataframe\">\n",
       "  <thead>\n",
       "    <tr style=\"text-align: right;\">\n",
       "      <th></th>\n",
       "      <th>Unnamed: 0.1</th>\n",
       "      <th>Unnamed: 0</th>\n",
       "      <th>intensity</th>\n",
       "      <th>z</th>\n",
       "      <th>y</th>\n",
       "      <th>x</th>\n",
       "      <th>radius</th>\n",
       "      <th>spot_id</th>\n",
       "      <th>z_min</th>\n",
       "      <th>z_max</th>\n",
       "      <th>...</th>\n",
       "      <th>target</th>\n",
       "      <th>distance</th>\n",
       "      <th>passes_thresholds</th>\n",
       "      <th>quality_minimum</th>\n",
       "      <th>quality_mean</th>\n",
       "      <th>quality_all_bases</th>\n",
       "      <th>second_peak_ratio_min</th>\n",
       "      <th>second_peak_ratio_mean</th>\n",
       "      <th>second_peak_ratio_all_bases</th>\n",
       "      <th>fov</th>\n",
       "    </tr>\n",
       "  </thead>\n",
       "  <tbody>\n",
       "    <tr>\n",
       "      <th>0</th>\n",
       "      <td>0</td>\n",
       "      <td>0</td>\n",
       "      <td>0.001065</td>\n",
       "      <td>0</td>\n",
       "      <td>1574</td>\n",
       "      <td>3750</td>\n",
       "      <td>17.0</td>\n",
       "      <td>0</td>\n",
       "      <td>0</td>\n",
       "      <td>1</td>\n",
       "      <td>...</td>\n",
       "      <td>22222.0</td>\n",
       "      <td>0.330504</td>\n",
       "      <td>True</td>\n",
       "      <td>0.235043</td>\n",
       "      <td>0.669496</td>\n",
       "      <td>[0.6618094306680024, 0.23504296843298395, 0.79...</td>\n",
       "      <td>0.054570</td>\n",
       "      <td>0.265730</td>\n",
       "      <td>[0.17547102820301572, 0.9439009711529853, 0.09...</td>\n",
       "      <td>0</td>\n",
       "    </tr>\n",
       "    <tr>\n",
       "      <th>1</th>\n",
       "      <td>1</td>\n",
       "      <td>1</td>\n",
       "      <td>0.000176</td>\n",
       "      <td>0</td>\n",
       "      <td>5643</td>\n",
       "      <td>4333</td>\n",
       "      <td>7.0</td>\n",
       "      <td>1</td>\n",
       "      <td>0</td>\n",
       "      <td>1</td>\n",
       "      <td>...</td>\n",
       "      <td>22222.0</td>\n",
       "      <td>0.041591</td>\n",
       "      <td>True</td>\n",
       "      <td>0.939349</td>\n",
       "      <td>0.958409</td>\n",
       "      <td>[0.9705502196354138, 0.9730192305749746, 0.953...</td>\n",
       "      <td>0.016507</td>\n",
       "      <td>0.018252</td>\n",
       "      <td>[0.01650738804319572, 0.016789320820161487, 0....</td>\n",
       "      <td>0</td>\n",
       "    </tr>\n",
       "    <tr>\n",
       "      <th>2</th>\n",
       "      <td>2</td>\n",
       "      <td>2</td>\n",
       "      <td>0.000623</td>\n",
       "      <td>0</td>\n",
       "      <td>5136</td>\n",
       "      <td>5191</td>\n",
       "      <td>15.0</td>\n",
       "      <td>2</td>\n",
       "      <td>0</td>\n",
       "      <td>1</td>\n",
       "      <td>...</td>\n",
       "      <td>22222.0</td>\n",
       "      <td>0.268309</td>\n",
       "      <td>True</td>\n",
       "      <td>0.639893</td>\n",
       "      <td>0.731691</td>\n",
       "      <td>[0.8050457348468791, 0.841904512090438, 0.6398...</td>\n",
       "      <td>0.070603</td>\n",
       "      <td>0.127930</td>\n",
       "      <td>[0.09698699798508267, 0.07060293095134106, 0.1...</td>\n",
       "      <td>0</td>\n",
       "    </tr>\n",
       "    <tr>\n",
       "      <th>3</th>\n",
       "      <td>3</td>\n",
       "      <td>3</td>\n",
       "      <td>0.000138</td>\n",
       "      <td>0</td>\n",
       "      <td>3509</td>\n",
       "      <td>4474</td>\n",
       "      <td>9.0</td>\n",
       "      <td>3</td>\n",
       "      <td>0</td>\n",
       "      <td>1</td>\n",
       "      <td>...</td>\n",
       "      <td>25222.0</td>\n",
       "      <td>0.322287</td>\n",
       "      <td>True</td>\n",
       "      <td>0.241674</td>\n",
       "      <td>0.677713</td>\n",
       "      <td>[0.2416735061892764, 0.26163989218553496, 0.96...</td>\n",
       "      <td>0.012316</td>\n",
       "      <td>0.385695</td>\n",
       "      <td>[0.954940913775814, 0.9262260536188588, 0.0123...</td>\n",
       "      <td>0</td>\n",
       "    </tr>\n",
       "    <tr>\n",
       "      <th>4</th>\n",
       "      <td>4</td>\n",
       "      <td>4</td>\n",
       "      <td>0.000383</td>\n",
       "      <td>0</td>\n",
       "      <td>4853</td>\n",
       "      <td>5945</td>\n",
       "      <td>12.0</td>\n",
       "      <td>4</td>\n",
       "      <td>0</td>\n",
       "      <td>1</td>\n",
       "      <td>...</td>\n",
       "      <td>22222.0</td>\n",
       "      <td>0.152845</td>\n",
       "      <td>True</td>\n",
       "      <td>0.802612</td>\n",
       "      <td>0.847155</td>\n",
       "      <td>[0.8752302074042002, 0.8426636822309882, 0.862...</td>\n",
       "      <td>0.052834</td>\n",
       "      <td>0.084666</td>\n",
       "      <td>[0.06800372086194695, 0.08612108246101975, 0.0...</td>\n",
       "      <td>0</td>\n",
       "    </tr>\n",
       "    <tr>\n",
       "      <th>...</th>\n",
       "      <td>...</td>\n",
       "      <td>...</td>\n",
       "      <td>...</td>\n",
       "      <td>...</td>\n",
       "      <td>...</td>\n",
       "      <td>...</td>\n",
       "      <td>...</td>\n",
       "      <td>...</td>\n",
       "      <td>...</td>\n",
       "      <td>...</td>\n",
       "      <td>...</td>\n",
       "      <td>...</td>\n",
       "      <td>...</td>\n",
       "      <td>...</td>\n",
       "      <td>...</td>\n",
       "      <td>...</td>\n",
       "      <td>...</td>\n",
       "      <td>...</td>\n",
       "      <td>...</td>\n",
       "      <td>...</td>\n",
       "      <td>...</td>\n",
       "    </tr>\n",
       "    <tr>\n",
       "      <th>79186</th>\n",
       "      <td>18</td>\n",
       "      <td>18</td>\n",
       "      <td>0.000114</td>\n",
       "      <td>0</td>\n",
       "      <td>136</td>\n",
       "      <td>1441</td>\n",
       "      <td>13.0</td>\n",
       "      <td>18</td>\n",
       "      <td>0</td>\n",
       "      <td>1</td>\n",
       "      <td>...</td>\n",
       "      <td>55555.0</td>\n",
       "      <td>0.676012</td>\n",
       "      <td>True</td>\n",
       "      <td>0.302803</td>\n",
       "      <td>0.323988</td>\n",
       "      <td>[0.32023423156111136, 0.30280321384499803, 0.3...</td>\n",
       "      <td>0.657591</td>\n",
       "      <td>0.756660</td>\n",
       "      <td>[0.6575906527737748, 0.9297748372165602, 0.734...</td>\n",
       "      <td>3</td>\n",
       "    </tr>\n",
       "    <tr>\n",
       "      <th>79187</th>\n",
       "      <td>19</td>\n",
       "      <td>19</td>\n",
       "      <td>0.000126</td>\n",
       "      <td>0</td>\n",
       "      <td>979</td>\n",
       "      <td>308</td>\n",
       "      <td>2.0</td>\n",
       "      <td>19</td>\n",
       "      <td>0</td>\n",
       "      <td>1</td>\n",
       "      <td>...</td>\n",
       "      <td>54453.0</td>\n",
       "      <td>0.731835</td>\n",
       "      <td>True</td>\n",
       "      <td>0.228628</td>\n",
       "      <td>0.268165</td>\n",
       "      <td>[0.24966046663835298, 0.22862753561347263, 0.2...</td>\n",
       "      <td>0.765035</td>\n",
       "      <td>0.874923</td>\n",
       "      <td>[0.7969657869497488, 0.9303467940726303, 0.941...</td>\n",
       "      <td>3</td>\n",
       "    </tr>\n",
       "    <tr>\n",
       "      <th>79188</th>\n",
       "      <td>20</td>\n",
       "      <td>20</td>\n",
       "      <td>0.000191</td>\n",
       "      <td>0</td>\n",
       "      <td>1041</td>\n",
       "      <td>298</td>\n",
       "      <td>2.0</td>\n",
       "      <td>20</td>\n",
       "      <td>0</td>\n",
       "      <td>1</td>\n",
       "      <td>...</td>\n",
       "      <td>41354.0</td>\n",
       "      <td>0.722794</td>\n",
       "      <td>True</td>\n",
       "      <td>0.222271</td>\n",
       "      <td>0.277206</td>\n",
       "      <td>[0.2405245474869771, 0.3153142397885005, 0.349...</td>\n",
       "      <td>0.645511</td>\n",
       "      <td>0.842152</td>\n",
       "      <td>[0.9375000624174752, 0.6455107569874622, 0.894...</td>\n",
       "      <td>3</td>\n",
       "    </tr>\n",
       "    <tr>\n",
       "      <th>79189</th>\n",
       "      <td>21</td>\n",
       "      <td>21</td>\n",
       "      <td>0.000115</td>\n",
       "      <td>0</td>\n",
       "      <td>477</td>\n",
       "      <td>1007</td>\n",
       "      <td>2.0</td>\n",
       "      <td>21</td>\n",
       "      <td>0</td>\n",
       "      <td>1</td>\n",
       "      <td>...</td>\n",
       "      <td>55421.0</td>\n",
       "      <td>0.664319</td>\n",
       "      <td>True</td>\n",
       "      <td>0.215663</td>\n",
       "      <td>0.335681</td>\n",
       "      <td>[0.21566266737520715, 0.23861462751049187, 0.2...</td>\n",
       "      <td>0.330163</td>\n",
       "      <td>0.785464</td>\n",
       "      <td>[0.9815641264388931, 0.8771264212956137, 0.868...</td>\n",
       "      <td>3</td>\n",
       "    </tr>\n",
       "    <tr>\n",
       "      <th>79190</th>\n",
       "      <td>22</td>\n",
       "      <td>22</td>\n",
       "      <td>0.000153</td>\n",
       "      <td>0</td>\n",
       "      <td>1311</td>\n",
       "      <td>1033</td>\n",
       "      <td>2.0</td>\n",
       "      <td>22</td>\n",
       "      <td>0</td>\n",
       "      <td>1</td>\n",
       "      <td>...</td>\n",
       "      <td>33333.0</td>\n",
       "      <td>0.269789</td>\n",
       "      <td>True</td>\n",
       "      <td>0.538877</td>\n",
       "      <td>0.730211</td>\n",
       "      <td>[0.8483190681196612, 0.8309957641399786, 0.771...</td>\n",
       "      <td>0.051016</td>\n",
       "      <td>0.138368</td>\n",
       "      <td>[0.05101632292671471, 0.0714865405462387, 0.08...</td>\n",
       "      <td>3</td>\n",
       "    </tr>\n",
       "  </tbody>\n",
       "</table>\n",
       "<p>79191 rows × 28 columns</p>\n",
       "</div>"
      ],
      "text/plain": [
       "       Unnamed: 0.1  Unnamed: 0  intensity  z     y     x  radius  spot_id  \\\n",
       "0                 0           0   0.001065  0  1574  3750    17.0        0   \n",
       "1                 1           1   0.000176  0  5643  4333     7.0        1   \n",
       "2                 2           2   0.000623  0  5136  5191    15.0        2   \n",
       "3                 3           3   0.000138  0  3509  4474     9.0        3   \n",
       "4                 4           4   0.000383  0  4853  5945    12.0        4   \n",
       "...             ...         ...        ... ..   ...   ...     ...      ...   \n",
       "79186            18          18   0.000114  0   136  1441    13.0       18   \n",
       "79187            19          19   0.000126  0   979   308     2.0       19   \n",
       "79188            20          20   0.000191  0  1041   298     2.0       20   \n",
       "79189            21          21   0.000115  0   477  1007     2.0       21   \n",
       "79190            22          22   0.000153  0  1311  1033     2.0       22   \n",
       "\n",
       "       z_min  z_max  ...   target  distance  passes_thresholds  \\\n",
       "0          0      1  ...  22222.0  0.330504               True   \n",
       "1          0      1  ...  22222.0  0.041591               True   \n",
       "2          0      1  ...  22222.0  0.268309               True   \n",
       "3          0      1  ...  25222.0  0.322287               True   \n",
       "4          0      1  ...  22222.0  0.152845               True   \n",
       "...      ...    ...  ...      ...       ...                ...   \n",
       "79186      0      1  ...  55555.0  0.676012               True   \n",
       "79187      0      1  ...  54453.0  0.731835               True   \n",
       "79188      0      1  ...  41354.0  0.722794               True   \n",
       "79189      0      1  ...  55421.0  0.664319               True   \n",
       "79190      0      1  ...  33333.0  0.269789               True   \n",
       "\n",
       "       quality_minimum  quality_mean  \\\n",
       "0             0.235043      0.669496   \n",
       "1             0.939349      0.958409   \n",
       "2             0.639893      0.731691   \n",
       "3             0.241674      0.677713   \n",
       "4             0.802612      0.847155   \n",
       "...                ...           ...   \n",
       "79186         0.302803      0.323988   \n",
       "79187         0.228628      0.268165   \n",
       "79188         0.222271      0.277206   \n",
       "79189         0.215663      0.335681   \n",
       "79190         0.538877      0.730211   \n",
       "\n",
       "                                       quality_all_bases  \\\n",
       "0      [0.6618094306680024, 0.23504296843298395, 0.79...   \n",
       "1      [0.9705502196354138, 0.9730192305749746, 0.953...   \n",
       "2      [0.8050457348468791, 0.841904512090438, 0.6398...   \n",
       "3      [0.2416735061892764, 0.26163989218553496, 0.96...   \n",
       "4      [0.8752302074042002, 0.8426636822309882, 0.862...   \n",
       "...                                                  ...   \n",
       "79186  [0.32023423156111136, 0.30280321384499803, 0.3...   \n",
       "79187  [0.24966046663835298, 0.22862753561347263, 0.2...   \n",
       "79188  [0.2405245474869771, 0.3153142397885005, 0.349...   \n",
       "79189  [0.21566266737520715, 0.23861462751049187, 0.2...   \n",
       "79190  [0.8483190681196612, 0.8309957641399786, 0.771...   \n",
       "\n",
       "       second_peak_ratio_min  second_peak_ratio_mean  \\\n",
       "0                   0.054570                0.265730   \n",
       "1                   0.016507                0.018252   \n",
       "2                   0.070603                0.127930   \n",
       "3                   0.012316                0.385695   \n",
       "4                   0.052834                0.084666   \n",
       "...                      ...                     ...   \n",
       "79186               0.657591                0.756660   \n",
       "79187               0.765035                0.874923   \n",
       "79188               0.645511                0.842152   \n",
       "79189               0.330163                0.785464   \n",
       "79190               0.051016                0.138368   \n",
       "\n",
       "                             second_peak_ratio_all_bases  fov  \n",
       "0      [0.17547102820301572, 0.9439009711529853, 0.09...    0  \n",
       "1      [0.01650738804319572, 0.016789320820161487, 0....    0  \n",
       "2      [0.09698699798508267, 0.07060293095134106, 0.1...    0  \n",
       "3      [0.954940913775814, 0.9262260536188588, 0.0123...    0  \n",
       "4      [0.06800372086194695, 0.08612108246101975, 0.0...    0  \n",
       "...                                                  ...  ...  \n",
       "79186  [0.6575906527737748, 0.9297748372165602, 0.734...    3  \n",
       "79187  [0.7969657869497488, 0.9303467940726303, 0.941...    3  \n",
       "79188  [0.9375000624174752, 0.6455107569874622, 0.894...    3  \n",
       "79189  [0.9815641264388931, 0.8771264212956137, 0.868...    3  \n",
       "79190  [0.05101632292671471, 0.0714865405462387, 0.08...    3  \n",
       "\n",
       "[79191 rows x 28 columns]"
      ]
     },
     "execution_count": 14,
     "metadata": {},
     "output_type": "execute_result"
    }
   ],
   "source": [
    "decoded"
   ]
  },
  {
   "cell_type": "code",
   "execution_count": 27,
   "metadata": {},
   "outputs": [
    {
     "data": {
      "text/html": [
       "<div>\n",
       "<style scoped>\n",
       "    .dataframe tbody tr th:only-of-type {\n",
       "        vertical-align: middle;\n",
       "    }\n",
       "\n",
       "    .dataframe tbody tr th {\n",
       "        vertical-align: top;\n",
       "    }\n",
       "\n",
       "    .dataframe thead th {\n",
       "        text-align: right;\n",
       "    }\n",
       "</style>\n",
       "<table border=\"1\" class=\"dataframe\">\n",
       "  <thead>\n",
       "    <tr style=\"text-align: right;\">\n",
       "      <th></th>\n",
       "      <th>0</th>\n",
       "      <th>1</th>\n",
       "      <th>2</th>\n",
       "    </tr>\n",
       "  </thead>\n",
       "  <tbody>\n",
       "    <tr>\n",
       "      <th>0</th>\n",
       "      <td>471.0</td>\n",
       "      <td>ABCB1</td>\n",
       "      <td>55213</td>\n",
       "    </tr>\n",
       "    <tr>\n",
       "      <th>1</th>\n",
       "      <td>472.0</td>\n",
       "      <td>ACTA2</td>\n",
       "      <td>35535</td>\n",
       "    </tr>\n",
       "    <tr>\n",
       "      <th>2</th>\n",
       "      <td>473.0</td>\n",
       "      <td>ANGPTL2</td>\n",
       "      <td>52243</td>\n",
       "    </tr>\n",
       "    <tr>\n",
       "      <th>3</th>\n",
       "      <td>474.0</td>\n",
       "      <td>ANGPTL4</td>\n",
       "      <td>55431</td>\n",
       "    </tr>\n",
       "    <tr>\n",
       "      <th>4</th>\n",
       "      <td>475.0</td>\n",
       "      <td>ANXA1</td>\n",
       "      <td>32124</td>\n",
       "    </tr>\n",
       "    <tr>\n",
       "      <th>...</th>\n",
       "      <td>...</td>\n",
       "      <td>...</td>\n",
       "      <td>...</td>\n",
       "    </tr>\n",
       "    <tr>\n",
       "      <th>358</th>\n",
       "      <td>829.0</td>\n",
       "      <td>PRDM6</td>\n",
       "      <td>35525</td>\n",
       "    </tr>\n",
       "    <tr>\n",
       "      <th>359</th>\n",
       "      <td>830.0</td>\n",
       "      <td>PRDX1</td>\n",
       "      <td>41432</td>\n",
       "    </tr>\n",
       "    <tr>\n",
       "      <th>360</th>\n",
       "      <td>831.0</td>\n",
       "      <td>PRRX1</td>\n",
       "      <td>35352</td>\n",
       "    </tr>\n",
       "    <tr>\n",
       "      <th>361</th>\n",
       "      <td>832.0</td>\n",
       "      <td>PTHLH</td>\n",
       "      <td>35515</td>\n",
       "    </tr>\n",
       "    <tr>\n",
       "      <th>362</th>\n",
       "      <td>833.0</td>\n",
       "      <td>PXDN</td>\n",
       "      <td>31432</td>\n",
       "    </tr>\n",
       "  </tbody>\n",
       "</table>\n",
       "<p>363 rows × 3 columns</p>\n",
       "</div>"
      ],
      "text/plain": [
       "         0        1      2\n",
       "0    471.0    ABCB1  55213\n",
       "1    472.0    ACTA2  35535\n",
       "2    473.0  ANGPTL2  52243\n",
       "3    474.0  ANGPTL4  55431\n",
       "4    475.0    ANXA1  32124\n",
       "..     ...      ...    ...\n",
       "358  829.0    PRDM6  35525\n",
       "359  830.0    PRDX1  41432\n",
       "360  831.0    PRRX1  35352\n",
       "361  832.0    PTHLH  35515\n",
       "362  833.0     PXDN  31432\n",
       "\n",
       "[363 rows x 3 columns]"
      ]
     },
     "execution_count": 27,
     "metadata": {},
     "output_type": "execute_result"
    }
   ],
   "source": [
    "conversion"
   ]
  },
  {
   "cell_type": "code",
   "execution_count": 4,
   "metadata": {},
   "outputs": [],
   "source": [
    "codebook=pd.read_csv('/home/marco/Downloads/media/marco/mountstuff/codebook_allposibilities_5colors.csv', header=None)"
   ]
  },
  {
   "cell_type": "code",
   "execution_count": 4,
   "metadata": {},
   "outputs": [
    {
     "data": {
      "text/html": [
       "<div>\n",
       "<style scoped>\n",
       "    .dataframe tbody tr th:only-of-type {\n",
       "        vertical-align: middle;\n",
       "    }\n",
       "\n",
       "    .dataframe tbody tr th {\n",
       "        vertical-align: top;\n",
       "    }\n",
       "\n",
       "    .dataframe thead th {\n",
       "        text-align: right;\n",
       "    }\n",
       "</style>\n",
       "<table border=\"1\" class=\"dataframe\">\n",
       "  <thead>\n",
       "    <tr style=\"text-align: right;\">\n",
       "      <th></th>\n",
       "      <th>0</th>\n",
       "      <th>1</th>\n",
       "      <th>2</th>\n",
       "      <th>3</th>\n",
       "      <th>4</th>\n",
       "      <th>5</th>\n",
       "    </tr>\n",
       "  </thead>\n",
       "  <tbody>\n",
       "    <tr>\n",
       "      <th>0</th>\n",
       "      <td>11111</td>\n",
       "      <td>1</td>\n",
       "      <td>1</td>\n",
       "      <td>1</td>\n",
       "      <td>1</td>\n",
       "      <td>1</td>\n",
       "    </tr>\n",
       "    <tr>\n",
       "      <th>1</th>\n",
       "      <td>11112</td>\n",
       "      <td>1</td>\n",
       "      <td>1</td>\n",
       "      <td>1</td>\n",
       "      <td>1</td>\n",
       "      <td>2</td>\n",
       "    </tr>\n",
       "    <tr>\n",
       "      <th>2</th>\n",
       "      <td>11113</td>\n",
       "      <td>1</td>\n",
       "      <td>1</td>\n",
       "      <td>1</td>\n",
       "      <td>1</td>\n",
       "      <td>3</td>\n",
       "    </tr>\n",
       "    <tr>\n",
       "      <th>3</th>\n",
       "      <td>11114</td>\n",
       "      <td>1</td>\n",
       "      <td>1</td>\n",
       "      <td>1</td>\n",
       "      <td>1</td>\n",
       "      <td>4</td>\n",
       "    </tr>\n",
       "    <tr>\n",
       "      <th>4</th>\n",
       "      <td>11115</td>\n",
       "      <td>1</td>\n",
       "      <td>1</td>\n",
       "      <td>1</td>\n",
       "      <td>1</td>\n",
       "      <td>5</td>\n",
       "    </tr>\n",
       "    <tr>\n",
       "      <th>...</th>\n",
       "      <td>...</td>\n",
       "      <td>...</td>\n",
       "      <td>...</td>\n",
       "      <td>...</td>\n",
       "      <td>...</td>\n",
       "      <td>...</td>\n",
       "    </tr>\n",
       "    <tr>\n",
       "      <th>3120</th>\n",
       "      <td>55551</td>\n",
       "      <td>5</td>\n",
       "      <td>5</td>\n",
       "      <td>5</td>\n",
       "      <td>5</td>\n",
       "      <td>1</td>\n",
       "    </tr>\n",
       "    <tr>\n",
       "      <th>3121</th>\n",
       "      <td>55552</td>\n",
       "      <td>5</td>\n",
       "      <td>5</td>\n",
       "      <td>5</td>\n",
       "      <td>5</td>\n",
       "      <td>2</td>\n",
       "    </tr>\n",
       "    <tr>\n",
       "      <th>3122</th>\n",
       "      <td>55553</td>\n",
       "      <td>5</td>\n",
       "      <td>5</td>\n",
       "      <td>5</td>\n",
       "      <td>5</td>\n",
       "      <td>3</td>\n",
       "    </tr>\n",
       "    <tr>\n",
       "      <th>3123</th>\n",
       "      <td>55554</td>\n",
       "      <td>5</td>\n",
       "      <td>5</td>\n",
       "      <td>5</td>\n",
       "      <td>5</td>\n",
       "      <td>4</td>\n",
       "    </tr>\n",
       "    <tr>\n",
       "      <th>3124</th>\n",
       "      <td>55555</td>\n",
       "      <td>5</td>\n",
       "      <td>5</td>\n",
       "      <td>5</td>\n",
       "      <td>5</td>\n",
       "      <td>5</td>\n",
       "    </tr>\n",
       "  </tbody>\n",
       "</table>\n",
       "<p>3125 rows × 6 columns</p>\n",
       "</div>"
      ],
      "text/plain": [
       "          0  1  2  3  4  5\n",
       "0     11111  1  1  1  1  1\n",
       "1     11112  1  1  1  1  2\n",
       "2     11113  1  1  1  1  3\n",
       "3     11114  1  1  1  1  4\n",
       "4     11115  1  1  1  1  5\n",
       "...     ... .. .. .. .. ..\n",
       "3120  55551  5  5  5  5  1\n",
       "3121  55552  5  5  5  5  2\n",
       "3122  55553  5  5  5  5  3\n",
       "3123  55554  5  5  5  5  4\n",
       "3124  55555  5  5  5  5  5\n",
       "\n",
       "[3125 rows x 6 columns]"
      ]
     },
     "execution_count": 4,
     "metadata": {},
     "output_type": "execute_result"
    }
   ],
   "source": [
    "codebook"
   ]
  },
  {
   "cell_type": "code",
   "execution_count": 5,
   "metadata": {},
   "outputs": [
    {
     "name": "stdout",
     "output_type": "stream",
     "text": [
      "Replacements made: 363\n",
      "No replacement available: 2762\n"
     ]
    }
   ],
   "source": [
    "import pandas as pd\n",
    "\n",
    "# Assuming `decoded` and `df` are your DataFrames\n",
    "# Example:\n",
    "# decoded = pd.DataFrame({'target': [...]})\n",
    "# df = pd.DataFrame([...])\n",
    "\n",
    "# Initialize counters\n",
    "replacement_count = 0\n",
    "no_replacement_count = 0\n",
    "\n",
    "# List to store indices of rows to drop\n",
    "rows_to_drop = []\n",
    "\n",
    "# Iterate over the rows of decoded['target']\n",
    "for index, value in codebook[0].items():\n",
    "    #print(value)\n",
    "    # Check if value is in df[2]\n",
    "    if value in conversion[2].values:\n",
    "        #print ('yes')\n",
    "        # Replace decoded['target'] with the corresponding value from df[1]\n",
    "        codebook.at[index, 0] = conversion.loc[conversion[2] == value, 1].values[0]\n",
    "        replacement_count += 1\n",
    "    else:\n",
    "        no_replacement_count += 1\n",
    "        rows_to_drop.append(index)\n",
    "\n",
    "# Remove rows with no replacement\n",
    "codebook = codebook.drop(rows_to_drop)\n",
    "\n",
    "# Output the counts\n",
    "print(f\"Replacements made: {replacement_count}\")\n",
    "print(f\"No replacement available: {no_replacement_count}\")\n"
   ]
  },
  {
   "cell_type": "code",
   "execution_count": 6,
   "metadata": {},
   "outputs": [],
   "source": [
    "codebook.to_csv('/home/marco/Downloads/media/marco/mountstuff/codebook_organoid.csv', index=False)"
   ]
  },
  {
   "cell_type": "code",
   "execution_count": 23,
   "metadata": {},
   "outputs": [
    {
     "name": "stdout",
     "output_type": "stream",
     "text": [
      "Replacements made: 14733\n",
      "No replacement available: 64458\n"
     ]
    },
    {
     "ename": "ModuleNotFoundError",
     "evalue": "No module named 'ace_tools'",
     "output_type": "error",
     "traceback": [
      "\u001b[31m---------------------------------------------------------------------------\u001b[39m",
      "\u001b[31mModuleNotFoundError\u001b[39m                       Traceback (most recent call last)",
      "\u001b[36mCell\u001b[39m\u001b[36m \u001b[39m\u001b[32mIn[23]\u001b[39m\u001b[32m, line 34\u001b[39m\n\u001b[32m     31\u001b[39m \u001b[38;5;28mprint\u001b[39m(\u001b[33mf\u001b[39m\u001b[33m\"\u001b[39m\u001b[33mNo replacement available: \u001b[39m\u001b[38;5;132;01m{\u001b[39;00mno_replacement_count\u001b[38;5;132;01m}\u001b[39;00m\u001b[33m\"\u001b[39m)\n\u001b[32m     33\u001b[39m \u001b[38;5;66;03m# If you'd like to display the modified dataframe\u001b[39;00m\n\u001b[32m---> \u001b[39m\u001b[32m34\u001b[39m \u001b[38;5;28;01mimport\u001b[39;00m\u001b[38;5;250m \u001b[39m\u001b[34;01mace_tools\u001b[39;00m\u001b[38;5;250m \u001b[39m\u001b[38;5;28;01mas\u001b[39;00m\u001b[38;5;250m \u001b[39m\u001b[34;01mtools\u001b[39;00m; tools.display_dataframe_to_user(name=\u001b[33m\"\u001b[39m\u001b[33mModified Decoded Data\u001b[39m\u001b[33m\"\u001b[39m, dataframe=decoded)\n",
      "\u001b[31mModuleNotFoundError\u001b[39m: No module named 'ace_tools'"
     ]
    }
   ],
   "source": [
    "import pandas as pd\n",
    "\n",
    "# Assuming `decoded` and `df` are your DataFrames\n",
    "# Example:\n",
    "# decoded = pd.DataFrame({'target': [...]})\n",
    "# df = pd.DataFrame([...])\n",
    "\n",
    "# Initialize counters\n",
    "replacement_count = 0\n",
    "no_replacement_count = 0\n",
    "\n",
    "# List to store indices of rows to drop\n",
    "rows_to_drop = []\n",
    "\n",
    "# Iterate over the rows of decoded['target']\n",
    "for index, value in decoded['target'].items():\n",
    "    # Check if value is in df[2]\n",
    "    if value in conversion[2].values:\n",
    "        # Replace decoded['target'] with the corresponding value from df[1]\n",
    "        decoded.at[index, 'target'] = conversion.loc[conversion[2] == value, 1].values[0]\n",
    "        replacement_count += 1\n",
    "    else:\n",
    "        no_replacement_count += 1\n",
    "        rows_to_drop.append(index)\n",
    "\n",
    "# Remove rows with no replacement\n",
    "decoded = decoded.drop(rows_to_drop)\n",
    "\n",
    "# Output the counts\n",
    "print(f\"Replacements made: {replacement_count}\")\n",
    "print(f\"No replacement available: {no_replacement_count}\")\n",
    "\n"
   ]
  },
  {
   "cell_type": "code",
   "execution_count": 26,
   "metadata": {},
   "outputs": [],
   "source": [
    "decoded.to_csv('/home/marco/Downloads/media/marco/output_folder_natsort_LEE/decoded_all_new/translated.csv')"
   ]
  },
  {
   "cell_type": "markdown",
   "metadata": {},
   "source": [
    "_________________\n",
    "\n",
    "\n",
    "\n",
    "_________________"
   ]
  },
  {
   "cell_type": "markdown",
   "metadata": {},
   "source": [
    "# Explore the decoded data"
   ]
  },
  {
   "cell_type": "markdown",
   "metadata": {},
   "source": [
    "After combining the csv files for every individual tile, we should get as an output a big table (saved in csv) containing the information of our raw decoded spots. The main columns are: \n",
    "\n",
    "1. The location of the decoded spot (columns “xc” and “yc”) and \n",
    "\n",
    "2. the identity of every spot (column: “target”). \n",
    "\n",
    "Similarly to what happens in NGS experiments, there \"raw\" reads migh have variable quality and one key step before performing downstream analyses is to assess this quality and filter the data if necessary (**spoiler alert: it is always necessary to do some level of filtering**)"
   ]
  },
  {
   "cell_type": "markdown",
   "metadata": {},
   "source": [
    "From now on, we'll need to work on each sample individually. It is important to assess the quality of the reads on individual sample, for obvious reasons.\n",
    "\n",
    "First of all we read the combined CSV file for one sections. You will have to input the path down here accordingly."
   ]
  },
  {
   "cell_type": "code",
   "execution_count": 51,
   "metadata": {},
   "outputs": [],
   "source": [
    "reads=pd.read_csv('/path/to/your/decoding_output/decoded.csv')"
   ]
  },
  {
   "cell_type": "markdown",
   "metadata": {},
   "source": [
    "The number of extracted raw reads for this section is:"
   ]
  },
  {
   "cell_type": "code",
   "execution_count": 52,
   "metadata": {},
   "outputs": [
    {
     "data": {
      "text/plain": [
       "417000"
      ]
     },
     "execution_count": 52,
     "metadata": {},
     "output_type": "execute_result"
    }
   ],
   "source": [
    "len(reads)"
   ]
  },
  {
   "cell_type": "markdown",
   "metadata": {},
   "source": [
    "## Understanding read quality\n",
    "\n",
    "To have an idea of how the read quality looks like, we can generate a violin plot of the qualities per cycle using the `quality_per_cycle` function. The function gets the data from the `reads` table above. The number of cycles needs to be specified manually by the user. \n",
    "\n",
    "You can have a look at the manual to understand how the quality is calculated. Summing up, 1 is the theoretical maximum and 0.25 the theoretical minimum in a 4 colour setting. The more your violin plots are shifted towards 1, the better."
   ]
  },
  {
   "cell_type": "code",
   "execution_count": null,
   "metadata": {},
   "outputs": [],
   "source": [
    "QC.quality_per_cycle(reads,cycles=4)"
   ]
  },
  {
   "cell_type": "markdown",
   "metadata": {},
   "source": [
    "Another useful plot to generate is to see how quality score metrics reflect whether a read has a match on the codebook (\"assigned\") or not (\"non assigned\"). We plot the `quality_minimum` and `quality_mean` against the assignment/non assignment to understand which is the best strategy to filter our data. Ideally we should infer from this plot a good quality threshold for filtering our data. "
   ]
  },
  {
   "cell_type": "code",
   "execution_count": null,
   "metadata": {},
   "outputs": [],
   "source": [
    "QC.compare_scores(reads,score1='quality_mean',score2='quality_minimum',hue='assigned',kind='hist',color='#3266a8')\n"
   ]
  },
  {
   "cell_type": "markdown",
   "metadata": {},
   "source": [
    "The following command does the same, but only on a single score."
   ]
  },
  {
   "cell_type": "code",
   "execution_count": null,
   "metadata": {},
   "outputs": [],
   "source": [
    "QC.plot_scores(reads,on='quality_mean',hue='assigned',log_scale=False) "
   ]
  },
  {
   "cell_type": "markdown",
   "metadata": {},
   "source": [
    "## Filtering the data\n",
    "\n",
    "There are different strategies to filter the data, depending on what the above plots show. You can refer to the manual for more specific example.\n",
    "\n",
    "A general common sense criterion is to filter out all the reads whose `quality_minimum` is < 0.5\n",
    "This discards all the reads that show poor quality in **at least one cycle**. This is quite a conservative criterion, but as a rule of thumb is a good one.\n",
    "\n",
    "\n",
    "Other methods for filtering are also described in the relevant part of the manual."
   ]
  },
  {
   "cell_type": "code",
   "execution_count": 53,
   "metadata": {},
   "outputs": [],
   "source": [
    "reads_filt=QC.filter_reads(reads,min_quality_minimum=0.5)\n"
   ]
  },
  {
   "cell_type": "markdown",
   "metadata": {},
   "source": [
    "The number of filtered reads for this section is:"
   ]
  },
  {
   "cell_type": "code",
   "execution_count": 54,
   "metadata": {},
   "outputs": [
    {
     "data": {
      "text/plain": [
       "370251"
      ]
     },
     "execution_count": 54,
     "metadata": {},
     "output_type": "execute_result"
    }
   ],
   "source": [
    "len(reads_filt)"
   ]
  },
  {
   "cell_type": "code",
   "execution_count": null,
   "metadata": {},
   "outputs": [],
   "source": []
  },
  {
   "cell_type": "markdown",
   "metadata": {},
   "source": [
    "# Plot expression data\n",
    "\n",
    "After quality-filtering, a sensible thing to do is to plot the gene expression decoded from your tissue. \n",
    "\n",
    "Parameters `xcolumn` and `y column` define the XY positions of your spots in the `reads_filt` dataframe. \n",
    "\n",
    "`key` points to the column containing the gene identity of your spots in the `reads_filt` dataframe.\n",
    "\n",
    "`genes` allows to plot a single gene per plot (=`individual`), or to plots all genes in a single plot (=`all`)\n",
    "\n",
    "`size`= sets the dot size\n",
    "\n",
    "`background`= sets the background color\t\n",
    "\n",
    "`title_color`= sets the color of the title for each plot.\n",
    "\n",
    "`colorcode`= sets the color of the expression dots\n",
    "\n",
    "`figuresize`=(10,10) sets the size of the plot\n",
    "\n",
    "`save`= defaults to `None`. If `True` saves the plot in the speficied `format`\n",
    "\n",
    "`format`= saves the plot to a specific format (ie `pdf`)\n"
   ]
  },
  {
   "cell_type": "code",
   "execution_count": null,
   "metadata": {},
   "outputs": [],
   "source": [
    "QC.plot_expression(reads,key='target',colorcode=['red'],xcolumn='xc',ycolumn='yc',genes='individual',size=8,background='black',title_color='white',figuresize=(10,10),save=None,format='pdf')"
   ]
  },
  {
   "cell_type": "markdown",
   "metadata": {},
   "source": [
    "## Other useful functions\n",
    "\n",
    "`quality_per_gene`: this function plots the quality of the reads assigned to each gene. Since every gene has an associated sequence of colors across cycles, we might have a big quality bias between different genes arising just because of the colour sequence (ie. if a channel has always a bad signal/noise, genes with many cycles in that channels will always have lower quality)."
   ]
  },
  {
   "cell_type": "code",
   "execution_count": null,
   "metadata": {},
   "outputs": [],
   "source": [
    "QC.quality_per_gene(reads,on='quality_mean',gene_name='target')"
   ]
  },
  {
   "cell_type": "markdown",
   "metadata": {},
   "source": [
    "`plot_frequencies`: allows us to plot the relative abundance of the decoded dots for each gene. This is useful to identify potential decoding artefacts. For example, a gene that looks 1000 times more abundant than the second more represented gene, should raise an eyebrow."
   ]
  },
  {
   "cell_type": "code",
   "execution_count": null,
   "metadata": {},
   "outputs": [],
   "source": [
    "QC.plot_frequencies(reads,on='target')"
   ]
  },
  {
   "cell_type": "code",
   "execution_count": null,
   "metadata": {},
   "outputs": [],
   "source": []
  }
 ],
 "metadata": {
  "kernelspec": {
   "display_name": "LEE_decoding",
   "language": "python",
   "name": "lee_decoding"
  },
  "language_info": {
   "codemirror_mode": {
    "name": "ipython",
    "version": 3
   },
   "file_extension": ".py",
   "mimetype": "text/x-python",
   "name": "python",
   "nbconvert_exporter": "python",
   "pygments_lexer": "ipython3",
   "version": "3.7.11"
  }
 },
 "nbformat": 4,
 "nbformat_minor": 4
}
